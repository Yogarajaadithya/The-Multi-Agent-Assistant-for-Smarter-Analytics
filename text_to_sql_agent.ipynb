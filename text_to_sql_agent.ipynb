{
 "cells": [
  {
   "cell_type": "markdown",
   "id": "45f6a5e9",
   "metadata": {},
   "source": [
    "# Text-to-SQL Agent for HR Analytics\n",
    "\n",
    "This notebook implements a clean text-to-SQL agent that:\n",
    "1. Takes natural language queries\n",
    "2. Generates safe SQL queries using HR context and data dictionary\n",
    "3. Executes queries against PostgreSQL\n",
    "4. Returns results as pandas DataFrames\n",
    "\n",
    "**Flow:** `User Query → SQL Generation → Execution → DataFrame`"
   ]
  },
  {
   "cell_type": "markdown",
   "id": "08f5e39d",
   "metadata": {},
   "source": [
    "## 1. Setup Environment & Database Connection"
   ]
  },
  {
   "cell_type": "code",
   "execution_count": 1,
   "id": "f4bace7f",
   "metadata": {},
   "outputs": [
    {
     "name": "stdout",
     "output_type": "stream",
     "text": [
      "✅ Environment variables loaded\n",
      "Schema: hr_data\n"
     ]
    }
   ],
   "source": [
    "import os\n",
    "from dotenv import load_dotenv\n",
    "from urllib.parse import quote_plus\n",
    "\n",
    "# Load environment variables\n",
    "load_dotenv(override=True)\n",
    "\n",
    "# Build PostgreSQL connection URL safely\n",
    "encoded_pw = quote_plus(os.getenv(\"DB_PASSWORD\"))\n",
    "POSTGRES_URL = (\n",
    "    f\"postgresql+psycopg2://{os.getenv('DB_USER')}:{encoded_pw}\"\n",
    "    f\"@{os.getenv('DB_HOST')}:{os.getenv('DB_PORT')}/{os.getenv('DB_NAME')}\"\n",
    ")\n",
    "\n",
    "# Save for downstream usage\n",
    "os.environ[\"POSTGRES_URL\"] = POSTGRES_URL\n",
    "\n",
    "print(\"✅ Environment variables loaded\")\n",
    "print(\"Schema:\", os.getenv(\"DB_SCHEMA\"))"
   ]
  },
  {
   "cell_type": "code",
   "execution_count": 2,
   "id": "ef14a73e",
   "metadata": {},
   "outputs": [
    {
     "name": "stdout",
     "output_type": "stream",
     "text": [
      "✅ Connected to database\n",
      "Tables available: ['employee_attrition']\n"
     ]
    }
   ],
   "source": [
    "from langchain_community.utilities import SQLDatabase\n",
    "\n",
    "# Connect to PostgreSQL with hr_data schema\n",
    "db = SQLDatabase.from_uri(\n",
    "    os.environ[\"POSTGRES_URL\"],\n",
    "    engine_args={\"connect_args\": {\"options\": f\"-csearch_path={os.getenv('DB_SCHEMA','public')}\"}}\n",
    ")\n",
    "\n",
    "print(\"✅ Connected to database\")\n",
    "print(\"Tables available:\", db.get_usable_table_names())"
   ]
  },
  {
   "cell_type": "markdown",
   "id": "c34c2fd6",
   "metadata": {},
   "source": [
    "## 2. Configure LLM (LM Studio)"
   ]
  },
  {
   "cell_type": "code",
   "execution_count": 3,
   "id": "636aa4df",
   "metadata": {},
   "outputs": [
    {
     "name": "stdout",
     "output_type": "stream",
     "text": [
      "✅ LLM initialized: ibm/granite-3.2-8b\n"
     ]
    }
   ],
   "source": [
    "from langchain_openai import ChatOpenAI\n",
    "\n",
    "# Initialize LLM pointing to LM Studio\n",
    "llm = ChatOpenAI(\n",
    "    model=os.environ.get(\"OPENAI_MODEL\", \"ibm/granite-3.2-8b\"),\n",
    "    base_url=os.environ.get(\"OPENAI_BASE_URL\", \"http://127.0.0.1:1234/v1\"),\n",
    "    api_key=os.environ.get(\"OPENAI_API_KEY\", \"lm-studio\"),\n",
    "    temperature=0.0,\n",
    ")\n",
    "\n",
    "print(\"✅ LLM initialized:\", os.environ.get(\"OPENAI_MODEL\", \"ibm/granite-3.2-8b\"))"
   ]
  },
  {
   "cell_type": "markdown",
   "id": "c08b21dc",
   "metadata": {},
   "source": [
    "## 3. Load HR Data Dictionary & KPI Context"
   ]
  },
  {
   "cell_type": "code",
   "execution_count": 4,
   "id": "200d2be6",
   "metadata": {},
   "outputs": [
    {
     "name": "stdout",
     "output_type": "stream",
     "text": [
      "✅ Context loaded: Data Dictionary and KPI Formulas\n"
     ]
    }
   ],
   "source": [
    "import pandas as pd\n",
    "import re\n",
    "from typing import Dict, Any\n",
    "from langchain_core.prompts import ChatPromptTemplate\n",
    "from langchain_core.output_parsers import StrOutputParser\n",
    "\n",
    "# HR Data Dictionary Context\n",
    "DATA_DICTIONARY = \"\"\"\n",
    "TABLE: employee_attrition\n",
    "Description: HR analytics data collection for employee attrition\n",
    "\n",
    "COLUMNS:\n",
    "- age (int): Employee's age in years\n",
    "- attrition (text): Whether employee left the company (Yes/No) - CATEGORICAL\n",
    "- businesstravel (text): Frequency of business travel - CATEGORICAL\n",
    "  VALUES: 'Travel_Rarely', 'Travel_Frequently', 'Non-Travel'\n",
    "  NOTE: 'Non-Travel' means employees who don't travel for business (closest to work-from-home/office-based)\n",
    "- dailyrate (int): Daily salary rate\n",
    "- department (text): Employee's department - CATEGORICAL\n",
    "- distancefromhome (int): Distance from home to workplace in miles\n",
    "- education (int): Education level 1-5 - CATEGORICAL\n",
    "- educationfield (text): Field of study - CATEGORICAL\n",
    "- employeenumber (int): Unique employee identifier\n",
    "- environmentsatisfaction (int): Work environment satisfaction 1-4 - CATEGORICAL\n",
    "- gender (text): Male/Female - CATEGORICAL\n",
    "  VALUES: 'Male', 'Female'\n",
    "- hourlyrate (int): Hourly wage rate\n",
    "- jobinvolvement (int): Job involvement level 1-4 - CATEGORICAL\n",
    "- joblevel (int): Position level 1-5 - CATEGORICAL\n",
    "- jobrole (text): Specific job title - CATEGORICAL\n",
    "- jobsatisfaction (int): Job satisfaction level 1-4 - CATEGORICAL\n",
    "- maritalstatus (text): Single/Married/Divorced - CATEGORICAL\n",
    "- monthlyincome (int): Monthly salary\n",
    "- monthlyrate (int): Monthly billing rate\n",
    "- numcompaniesworked (int): Number of previous employers\n",
    "- overtime (text): Works overtime Yes/No - CATEGORICAL\n",
    "  VALUES: 'Yes', 'No'\n",
    "- percentsalaryhike (int): Percentage salary increase\n",
    "- performancerating (int): Performance rating 1-4 - CATEGORICAL\n",
    "- relationshipsatisfaction (int): Workplace relationship satisfaction 1-4 - CATEGORICAL\n",
    "- stockoptionlevel (int): Stock option level 0-3 - CATEGORICAL\n",
    "- totalworkingyears (int): Total years of work experience\n",
    "- trainingtimeslastyear (int): Number of training sessions last year\n",
    "- worklifebalance (int): Work-life balance rating 1-4 - CATEGORICAL\n",
    "- yearsatcompany (int): Years at the company\n",
    "- yearsincurrentrole (int): Years in current role\n",
    "- yearssincelastpromotion (int): Years since last promotion\n",
    "- yearswithcurrmanager (int): Years with current manager\n",
    "\"\"\"\n",
    "\n",
    "KPI_FORMULAS = \"\"\"\n",
    "KEY HR METRICS:\n",
    "1. Attrition Rate = (COUNT(attrition='Yes') / COUNT(*)) * 100\n",
    "2. Average Tenure = AVG(yearsatcompany)\n",
    "3. Gender Pay Gap = ((AVG(monthlyincome WHERE gender='Male') - AVG(monthlyincome WHERE gender='Female')) / AVG(monthlyincome WHERE gender='Male')) * 100\n",
    "4. Overtime Rate = (COUNT(overtime='Yes') / COUNT(*)) * 100\n",
    "5. Promotion Rate = Based on yearssincelastpromotion\n",
    "\"\"\"\n",
    "\n",
    "print(\"✅ Context loaded: Data Dictionary and KPI Formulas\")"
   ]
  },
  {
   "cell_type": "markdown",
   "id": "bcd390df",
   "metadata": {},
   "source": [
    "## 4. Text-to-SQL Agent Implementation"
   ]
  },
  {
   "cell_type": "code",
   "execution_count": 5,
   "id": "81b85d3f",
   "metadata": {},
   "outputs": [
    {
     "name": "stdout",
     "output_type": "stream",
     "text": [
      "✅ TextToSQLAgent class defined with ENHANCED PROMPT (v2.0)\n"
     ]
    }
   ],
   "source": [
    "class TextToSQLAgent:\n",
    "    \"\"\"\n",
    "    Clean Text-to-SQL Agent for HR Analytics\n",
    "    \n",
    "    Flow: User Query → SQL Generation → Execution → DataFrame\n",
    "    \"\"\"\n",
    "    \n",
    "    def __init__(self, db, llm):\n",
    "        \"\"\"\n",
    "        Initialize the agent with database connection and LLM.\n",
    "        \n",
    "        Args:\n",
    "            db: LangChain SQLDatabase instance\n",
    "            llm: LangChain ChatOpenAI instance\n",
    "        \"\"\"\n",
    "        self.db = db\n",
    "        self.llm = llm\n",
    "        self.schema_info = db.get_table_info()\n",
    "        self._setup_chain()\n",
    "        \n",
    "    def _setup_chain(self):\n",
    "        \"\"\"Setup the LangChain prompt and chain.\"\"\"\n",
    "        self.prompt = ChatPromptTemplate.from_messages([\n",
    "            (\"system\", \n",
    "             \"You are an EXPERT PostgreSQL query writer for HR analytics. Your ONLY job is to write correct, efficient SQL queries.\\n\\n\"\n",
    "             \n",
    "             \"═══════════════════════════════════════════════════════════\\n\"\n",
    "             \"CRITICAL RULES - FOLLOW EXACTLY:\\n\"\n",
    "             \"═══════════════════════════════════════════════════════════\\n\"\n",
    "             \"1. Return ONLY a valid PostgreSQL SELECT query - NO explanations, NO markdown, NO comments\\n\"\n",
    "             \"2. Use ONLY tables and columns from the schema provided below\\n\"\n",
    "             \"3. NEVER use INSERT, UPDATE, DELETE, DROP, ALTER, TRUNCATE, CREATE, or EXEC\\n\"\n",
    "             \"4. ALL column names are LOWERCASE in the database\\n\"\n",
    "             \"5. Table name is 'employee_attrition' (lowercase)\\n\\n\"\n",
    "             \n",
    "             \"═══════════════════════════════════════════════════════════\\n\"\n",
    "             \"PERCENTAGE/RATE CALCULATIONS - EXTREMELY IMPORTANT:\\n\"\n",
    "             \"═══════════════════════════════════════════════════════════\\n\"\n",
    "             \"PostgreSQL does INTEGER DIVISION by default. You MUST cast to numeric!\\n\\n\"\n",
    "             \n",
    "             \"✅ CORRECT PATTERNS:\\n\"\n",
    "             \"Pattern 1 - Using ::numeric casting:\\n\"\n",
    "             \"  ROUND((COUNT(CASE WHEN condition THEN 1 END)::numeric / COUNT(*)::numeric) * 100, 2)\\n\\n\"\n",
    "             \n",
    "             \"Pattern 2 - Using CAST:\\n\"\n",
    "             \"  ROUND((CAST(COUNT(CASE WHEN condition THEN 1 END) AS numeric) / CAST(COUNT(*) AS numeric)) * 100, 2)\\n\\n\"\n",
    "             \n",
    "             \"Pattern 3 - Using 100.0 to force decimal:\\n\"\n",
    "             \"  ROUND((COUNT(CASE WHEN condition THEN 1 END) * 100.0 / COUNT(*)), 2)\\n\\n\"\n",
    "             \n",
    "             \"❌ WRONG (Will return 0 due to integer division):\\n\"\n",
    "             \"  (COUNT(CASE WHEN condition THEN 1 END) / COUNT(*)) * 100\\n\\n\"\n",
    "             \n",
    "             \"═══════════════════════════════════════════════════════════\\n\"\n",
    "             \"FILTERING FOR SPECIFIC GROUPS - CRITICAL:\\n\"\n",
    "             \"═══════════════════════════════════════════════════════════\\n\"\n",
    "             \n",
    "             \"When asked for a rate/percentage for a SPECIFIC GROUP:\\n\"\n",
    "             \"✅ CORRECT - Use WHERE clause to filter the group FIRST:\\n\"\n",
    "             \"  Example: \\\"What is the male attrition rate?\\\"\\n\"\n",
    "             \"  SELECT \\n\"\n",
    "             \"    ROUND((COUNT(CASE WHEN attrition='Yes' THEN 1 END)::numeric / COUNT(*)::numeric) * 100, 2) as male_attrition_rate\\n\"\n",
    "             \"  FROM employee_attrition\\n\"\n",
    "             \"  WHERE gender = 'Male'\\n\\n\"\n",
    "             \n",
    "             \"  Example: \\\"What is the attrition rate for employees who work overtime?\\\"\\n\"\n",
    "             \"  SELECT \\n\"\n",
    "             \"    ROUND((COUNT(CASE WHEN attrition='Yes' THEN 1 END)::numeric / COUNT(*)::numeric) * 100, 2) as overtime_attrition_rate\\n\"\n",
    "             \"  FROM employee_attrition\\n\"\n",
    "             \"  WHERE overtime = 'Yes'\\n\\n\"\n",
    "             \n",
    "             \"❌ WRONG - Do NOT put the filter condition in CASE WHEN:\\n\"\n",
    "             \"  SELECT (COUNT(CASE WHEN attrition='Yes' AND gender='Male' THEN 1 END) / COUNT(*)) * 100\\n\"\n",
    "             \"  FROM employee_attrition\\n\"\n",
    "             \"  -- This divides by ALL employees, not just males!\\n\\n\"\n",
    "             \n",
    "             \"═══════════════════════════════════════════════════════════\\n\"\n",
    "             \"COMPARISON QUERIES:\\n\"\n",
    "             \"═══════════════════════════════════════════════════════════\\n\"\n",
    "             \n",
    "             \"When comparing groups (e.g., \\\"overtime vs non-overtime\\\", \\\"male vs female\\\"):\\n\"\n",
    "             \"✅ CORRECT - Use GROUP BY:\\n\"\n",
    "             \"  SELECT \\n\"\n",
    "             \"    overtime,\\n\"\n",
    "             \"    COUNT(*) as total,\\n\"\n",
    "             \"    COUNT(CASE WHEN attrition='Yes' THEN 1 END) as left,\\n\"\n",
    "             \"    ROUND((COUNT(CASE WHEN attrition='Yes' THEN 1 END)::numeric / COUNT(*)::numeric) * 100, 2) as attrition_rate\\n\"\n",
    "             \"  FROM employee_attrition\\n\"\n",
    "             \"  GROUP BY overtime\\n\\n\"\n",
    "             \n",
    "             \"═══════════════════════════════════════════════════════════\\n\"\n",
    "             \"IMPACT/CORRELATION QUERIES:\\n\"\n",
    "             \"═══════════════════════════════════════════════════════════\\n\"\n",
    "             \n",
    "             \"When asked \\\"How does X impact Y?\\\" or \\\"How does X affect Y?\\\":\\n\"\n",
    "             \"✅ CORRECT - Group by X, calculate Y for each group:\\n\"\n",
    "             \"  Example: \\\"How does job satisfaction impact attrition?\\\"\\n\"\n",
    "             \"  SELECT \\n\"\n",
    "             \"    jobsatisfaction,\\n\"\n",
    "             \"    COUNT(*) as total_employees,\\n\"\n",
    "             \"    COUNT(CASE WHEN attrition='Yes' THEN 1 END) as employees_left,\\n\"\n",
    "             \"    ROUND((COUNT(CASE WHEN attrition='Yes' THEN 1 END)::numeric / COUNT(*)::numeric) * 100, 2) as attrition_rate\\n\"\n",
    "             \"  FROM employee_attrition\\n\"\n",
    "             \"  GROUP BY jobsatisfaction\\n\"\n",
    "             \"  ORDER BY jobsatisfaction\\n\\n\"\n",
    "             \n",
    "             \"  Example: \\\"How does education level affect monthly income?\\\"\\n\"\n",
    "             \"  SELECT \\n\"\n",
    "             \"    education,\\n\"\n",
    "             \"    COUNT(*) as employee_count,\\n\"\n",
    "             \"    ROUND(AVG(monthlyincome)::numeric, 2) as avg_income,\\n\"\n",
    "             \"    MIN(monthlyincome) as min_income,\\n\"\n",
    "             \"    MAX(monthlyincome) as max_income\\n\"\n",
    "             \"  FROM employee_attrition\\n\"\n",
    "             \"  GROUP BY education\\n\"\n",
    "             \"  ORDER BY education\\n\\n\"\n",
    "             \n",
    "             \"═══════════════════════════════════════════════════════════\\n\"\n",
    "             \"AGGREGATION BEST PRACTICES:\\n\"\n",
    "             \"═══════════════════════════════════════════════════════════\\n\"\n",
    "             \"- Always include COUNT(*) to show sample size\\n\"\n",
    "             \"- Use ROUND() for decimals: ROUND(value, 2)\\n\"\n",
    "             \"- Order results logically (ORDER BY)\\n\"\n",
    "             \"- Use descriptive column aliases (AS meaningful_name)\\n\"\n",
    "             \"- For categorical columns, always GROUP BY them\\n\\n\"\n",
    "             \n",
    "             \"═══════════════════════════════════════════════════════════\\n\"\n",
    "             \"CATEGORICAL COLUMN VALUES (Case-sensitive!):\\n\"\n",
    "             \"═══════════════════════════════════════════════════════════\\n\"\n",
    "             \"- attrition: 'Yes', 'No'\\n\"\n",
    "             \"- gender: 'Male', 'Female'\\n\"\n",
    "             \"- overtime: 'Yes', 'No'\\n\"\n",
    "             \"- businesstravel: 'Travel_Rarely', 'Travel_Frequently', 'Non-Travel'\\n\"\n",
    "             \"- maritalstatus: 'Single', 'Married', 'Divorced'\\n\"\n",
    "             \"- department: Use actual values from data\\n\"\n",
    "             \"- jobrole: Use actual values from data\\n\"\n",
    "             \"- educationfield: Use actual values from data\\n\\n\"\n",
    "             \n",
    "             \"═══════════════════════════════════════════════════════════\\n\"\n",
    "             \"RATING COLUMNS (1-4 or 1-5 scales):\\n\"\n",
    "             \"═══════════════════════════════════════════════════════════\\n\"\n",
    "             \"These are integers representing ratings:\\n\"\n",
    "             \"- jobsatisfaction (1-4): 1=Low, 4=High\\n\"\n",
    "             \"- environmentsatisfaction (1-4)\\n\"\n",
    "             \"- relationshipsatisfaction (1-4)\\n\"\n",
    "             \"- worklifebalance (1-4)\\n\"\n",
    "             \"- performancerating (1-4)\\n\"\n",
    "             \"- jobinvolvement (1-4)\\n\"\n",
    "             \"- education (1-5)\\n\"\n",
    "             \"- joblevel (1-5)\\n\"\n",
    "             \"- stockoptionlevel (0-3)\\n\\n\"\n",
    "             \n",
    "             \"For questions like \\\"low satisfaction\\\" or \\\"high satisfaction\\\":\\n\"\n",
    "             \"- Low: values 1-2\\n\"\n",
    "             \"- High: values 3-4\\n\\n\"\n",
    "             \n",
    "             \"═══════════════════════════════════════════════════════════\\n\"\n",
    "             \"COMMON QUESTION PATTERNS & SOLUTIONS:\\n\"\n",
    "             \"═══════════════════════════════════════════════════════════\\n\\n\"\n",
    "             \n",
    "             \"Pattern: \\\"What is the [metric] for [specific group]?\\\"\\n\"\n",
    "             \"Solution: Use WHERE to filter group, then calculate metric\\n\\n\"\n",
    "             \n",
    "             \"Pattern: \\\"How does [factor] impact [outcome]?\\\"\\n\"\n",
    "             \"Solution: GROUP BY factor, calculate outcome for each group\\n\\n\"\n",
    "             \n",
    "             \"Pattern: \\\"Compare [metric] between [group1] and [group2]\\\"\\n\"\n",
    "             \"Solution: GROUP BY the grouping column, calculate metric\\n\\n\"\n",
    "             \n",
    "             \"Pattern: \\\"What is the average [column]?\\\"\\n\"\n",
    "             \"Solution: SELECT AVG(column)::numeric\\n\\n\"\n",
    "             \n",
    "             \"Pattern: \\\"Show me distribution of [column]\\\"\\n\"\n",
    "             \"Solution: SELECT column, COUNT(*) GROUP BY column\\n\\n\"\n",
    "             \n",
    "             \"Pattern: \\\"Top/Bottom N by [metric]\\\"\\n\"\n",
    "             \"Solution: Use ORDER BY metric DESC/ASC LIMIT N\\n\\n\"\n",
    "             \n",
    "             \"═══════════════════════════════════════════════════════════\\n\"\n",
    "             \"DATABASE SCHEMA:\\n\"\n",
    "             \"═══════════════════════════════════════════════════════════\\n\"\n",
    "             \"{schema}\\n\\n\"\n",
    "             \n",
    "             \"═══════════════════════════════════════════════════════════\\n\"\n",
    "             \"DATA DICTIONARY:\\n\"\n",
    "             \"═══════════════════════════════════════════════════════════\\n\"\n",
    "             \"{data_dict}\\n\\n\"\n",
    "             \n",
    "             \"═══════════════════════════════════════════════════════════\\n\"\n",
    "             \"HR KPI FORMULAS:\\n\"\n",
    "             \"═══════════════════════════════════════════════════════════\\n\"\n",
    "             \"{kpi_formulas}\\n\\n\"\n",
    "             \n",
    "             \"═══════════════════════════════════════════════════════════\\n\"\n",
    "             \"REMEMBER:\\n\"\n",
    "             \"═══════════════════════════════════════════════════════════\\n\"\n",
    "             \"1. ALWAYS cast to ::numeric for divisions\\n\"\n",
    "             \"2. Use WHERE to filter specific groups BEFORE calculating rates\\n\"\n",
    "             \"3. Use GROUP BY to compare groups or show impact\\n\"\n",
    "             \"4. Return ONLY the SQL query - no markdown, no explanations\\n\"\n",
    "             \"5. Test your logic: denominators should match the filtered group\\n\"\n",
    "             \"═══════════════════════════════════════════════════════════\\n\"),\n",
    "            (\"user\", \n",
    "             \"Generate a PostgreSQL query for this question:\\n{question}\\n\\n\"\n",
    "             \"Return ONLY the SQL query. No markdown formatting. No explanations.\")\n",
    "        ])\n",
    "        \n",
    "        self.chain = self.prompt | self.llm | StrOutputParser()\n",
    "    \n",
    "    def _extract_sql(self, text: str) -> str:\n",
    "        \"\"\"Extract SQL from LLM response, handling markdown code blocks.\"\"\"\n",
    "        # Try to extract from ```sql ... ``` blocks\n",
    "        sql_block = re.search(r\"```sql\\s*(.*?)```\", text, re.IGNORECASE | re.DOTALL)\n",
    "        if sql_block:\n",
    "            sql = sql_block.group(1)\n",
    "        else:\n",
    "            # Try generic ``` ... ``` blocks\n",
    "            code_block = re.search(r\"```\\s*(.*?)```\", text, re.DOTALL)\n",
    "            sql = code_block.group(1) if code_block else text\n",
    "        \n",
    "        return sql.strip().strip(';')\n",
    "    \n",
    "    def _validate_sql(self, sql: str) -> bool:\n",
    "        \"\"\"Validate that SQL is safe to execute.\"\"\"\n",
    "        sql_upper = sql.upper()\n",
    "        \n",
    "        # Must be a SELECT query\n",
    "        if not sql_upper.strip().startswith(\"SELECT\"):\n",
    "            raise ValueError(\"Only SELECT queries are allowed\")\n",
    "        \n",
    "        # Check for dangerous keywords\n",
    "        dangerous_keywords = [\"INSERT\", \"UPDATE\", \"DELETE\", \"DROP\", \n",
    "                             \"ALTER\", \"TRUNCATE\", \"CREATE\", \"EXEC\"]\n",
    "        for keyword in dangerous_keywords:\n",
    "            if keyword in sql_upper:\n",
    "                raise ValueError(f\"Unsafe SQL detected: {keyword} operation not allowed\")\n",
    "        \n",
    "        return True\n",
    "    \n",
    "    def generate_sql(self, question: str) -> str:\n",
    "        \"\"\"\n",
    "        Generate SQL query from natural language question.\n",
    "        \n",
    "        Args:\n",
    "            question: Natural language query\n",
    "            \n",
    "        Returns:\n",
    "            SQL query string\n",
    "        \"\"\"\n",
    "        response = self.chain.invoke({\n",
    "            \"schema\": self.schema_info,\n",
    "            \"data_dict\": DATA_DICTIONARY,\n",
    "            \"kpi_formulas\": KPI_FORMULAS,\n",
    "            \"question\": question\n",
    "        })\n",
    "        \n",
    "        sql = self._extract_sql(response)\n",
    "        self._validate_sql(sql)\n",
    "        \n",
    "        return sql\n",
    "    \n",
    "    def execute_sql(self, sql: str) -> pd.DataFrame:\n",
    "        \"\"\"\n",
    "        Execute SQL query and return results as DataFrame.\n",
    "        \n",
    "        Args:\n",
    "            sql: SQL query string\n",
    "            \n",
    "        Returns:\n",
    "            pandas DataFrame with query results\n",
    "        \"\"\"\n",
    "        # Get SQLAlchemy engine from LangChain db\n",
    "        with self.db._engine.connect() as conn:\n",
    "            df = pd.read_sql(sql, conn)\n",
    "        \n",
    "        return df\n",
    "    \n",
    "    def query(self, question: str, verbose: bool = True) -> pd.DataFrame:\n",
    "        \"\"\"\n",
    "        Complete pipeline: Question → SQL → DataFrame\n",
    "        \n",
    "        Args:\n",
    "            question: Natural language query\n",
    "            verbose: If True, print generated SQL\n",
    "            \n",
    "        Returns:\n",
    "            pandas DataFrame with results\n",
    "        \"\"\"\n",
    "        try:\n",
    "            # Generate SQL\n",
    "            sql = self.generate_sql(question)\n",
    "            \n",
    "            if verbose:\n",
    "                print(\"=\" * 60)\n",
    "                print(\"GENERATED SQL:\")\n",
    "                print(\"=\" * 60)\n",
    "                print(sql)\n",
    "                print(\"=\" * 60)\n",
    "            \n",
    "            # Execute and return DataFrame\n",
    "            df = self.execute_sql(sql)\n",
    "            \n",
    "            if verbose:\n",
    "                print(f\"\\n✅ Query executed successfully. Returned {len(df)} rows.\\n\")\n",
    "            \n",
    "            return df\n",
    "            \n",
    "        except Exception as e:\n",
    "            print(f\"❌ Error: {str(e)}\")\n",
    "            raise\n",
    "\n",
    "print(\"✅ TextToSQLAgent class defined with ENHANCED PROMPT (v2.0)\")"
   ]
  },
  {
   "cell_type": "markdown",
   "id": "31948e97",
   "metadata": {},
   "source": [
    "## 5. Initialize the Agent"
   ]
  },
  {
   "cell_type": "code",
   "execution_count": 6,
   "id": "5cfe61da",
   "metadata": {},
   "outputs": [
    {
     "name": "stdout",
     "output_type": "stream",
     "text": [
      "✅ Text-to-SQL Agent initialized and ready!\n"
     ]
    }
   ],
   "source": [
    "# Initialize the Text-to-SQL Agent\n",
    "agent = TextToSQLAgent(db=db, llm=llm)\n",
    "\n",
    "print(\"✅ Text-to-SQL Agent initialized and ready!\")"
   ]
  },
  {
   "cell_type": "markdown",
   "id": "1425dc60",
   "metadata": {},
   "source": [
    "## 6. Test Examples\n",
    "\n",
    "Now let's test the agent with various HR analytics queries:"
   ]
  },
  {
   "cell_type": "code",
   "execution_count": 7,
   "id": "0a8db56d",
   "metadata": {},
   "outputs": [
    {
     "name": "stdout",
     "output_type": "stream",
     "text": [
      "============================================================\n",
      "GENERATED SQL:\n",
      "============================================================\n",
      "SELECT\n",
      "    department,\n",
      "    COUNT(*) as employee_count\n",
      "FROM\n",
      "    employee_attrition\n",
      "GROUP BY\n",
      "    department\n",
      "ORDER BY\n",
      "    employee_count DESC\n",
      "============================================================\n",
      "\n",
      "✅ Query executed successfully. Returned 3 rows.\n",
      "\n"
     ]
    },
    {
     "data": {
      "text/html": [
       "<div>\n",
       "<style scoped>\n",
       "    .dataframe tbody tr th:only-of-type {\n",
       "        vertical-align: middle;\n",
       "    }\n",
       "\n",
       "    .dataframe tbody tr th {\n",
       "        vertical-align: top;\n",
       "    }\n",
       "\n",
       "    .dataframe thead th {\n",
       "        text-align: right;\n",
       "    }\n",
       "</style>\n",
       "<table border=\"1\" class=\"dataframe\">\n",
       "  <thead>\n",
       "    <tr style=\"text-align: right;\">\n",
       "      <th></th>\n",
       "      <th>department</th>\n",
       "      <th>employee_count</th>\n",
       "    </tr>\n",
       "  </thead>\n",
       "  <tbody>\n",
       "    <tr>\n",
       "      <th>0</th>\n",
       "      <td>Research &amp; Development</td>\n",
       "      <td>961</td>\n",
       "    </tr>\n",
       "    <tr>\n",
       "      <th>1</th>\n",
       "      <td>Sales</td>\n",
       "      <td>446</td>\n",
       "    </tr>\n",
       "    <tr>\n",
       "      <th>2</th>\n",
       "      <td>Human Resources</td>\n",
       "      <td>63</td>\n",
       "    </tr>\n",
       "  </tbody>\n",
       "</table>\n",
       "</div>"
      ],
      "text/plain": [
       "               department  employee_count\n",
       "0  Research & Development             961\n",
       "1                   Sales             446\n",
       "2         Human Resources              63"
      ]
     },
     "execution_count": 7,
     "metadata": {},
     "output_type": "execute_result"
    }
   ],
   "source": [
    "# Example 1: Department-wise employee count\n",
    "df1 = agent.query(\"How many employees are in each department?\")\n",
    "df1"
   ]
  },
  {
   "cell_type": "code",
   "execution_count": 8,
   "id": "b98a41b8",
   "metadata": {},
   "outputs": [
    {
     "name": "stdout",
     "output_type": "stream",
     "text": [
      "============================================================\n",
      "GENERATED SQL:\n",
      "============================================================\n",
      "SELECT\n",
      "    department,\n",
      "    COUNT(*) as total_employees,\n",
      "    COUNT(CASE WHEN attrition = 'Yes' THEN 1 END) as employees_left,\n",
      "    ROUND((COUNT(CASE WHEN attrition = 'Yes' THEN 1 END)::numeric / COUNT(*)::numeric) * 100, 2) as attrition_rate\n",
      "FROM employee_attrition\n",
      "GROUP BY department\n",
      "ORDER BY attrition_rate DESC\n",
      "============================================================\n",
      "\n",
      "✅ Query executed successfully. Returned 3 rows.\n",
      "\n"
     ]
    },
    {
     "data": {
      "text/html": [
       "<div>\n",
       "<style scoped>\n",
       "    .dataframe tbody tr th:only-of-type {\n",
       "        vertical-align: middle;\n",
       "    }\n",
       "\n",
       "    .dataframe tbody tr th {\n",
       "        vertical-align: top;\n",
       "    }\n",
       "\n",
       "    .dataframe thead th {\n",
       "        text-align: right;\n",
       "    }\n",
       "</style>\n",
       "<table border=\"1\" class=\"dataframe\">\n",
       "  <thead>\n",
       "    <tr style=\"text-align: right;\">\n",
       "      <th></th>\n",
       "      <th>department</th>\n",
       "      <th>total_employees</th>\n",
       "      <th>employees_left</th>\n",
       "      <th>attrition_rate</th>\n",
       "    </tr>\n",
       "  </thead>\n",
       "  <tbody>\n",
       "    <tr>\n",
       "      <th>0</th>\n",
       "      <td>Sales</td>\n",
       "      <td>446</td>\n",
       "      <td>92</td>\n",
       "      <td>20.63</td>\n",
       "    </tr>\n",
       "    <tr>\n",
       "      <th>1</th>\n",
       "      <td>Human Resources</td>\n",
       "      <td>63</td>\n",
       "      <td>12</td>\n",
       "      <td>19.05</td>\n",
       "    </tr>\n",
       "    <tr>\n",
       "      <th>2</th>\n",
       "      <td>Research &amp; Development</td>\n",
       "      <td>961</td>\n",
       "      <td>133</td>\n",
       "      <td>13.84</td>\n",
       "    </tr>\n",
       "  </tbody>\n",
       "</table>\n",
       "</div>"
      ],
      "text/plain": [
       "               department  total_employees  employees_left  attrition_rate\n",
       "0                   Sales              446              92           20.63\n",
       "1         Human Resources               63              12           19.05\n",
       "2  Research & Development              961             133           13.84"
      ]
     },
     "execution_count": 8,
     "metadata": {},
     "output_type": "execute_result"
    }
   ],
   "source": [
    "# Example 2: Attrition rate by department\n",
    "df2 = agent.query(\"What is the attrition rate for each department?\")\n",
    "df2"
   ]
  },
  {
   "cell_type": "code",
   "execution_count": 9,
   "id": "489c6254",
   "metadata": {},
   "outputs": [
    {
     "name": "stdout",
     "output_type": "stream",
     "text": [
      "============================================================\n",
      "GENERATED SQL:\n",
      "============================================================\n",
      "SELECT\n",
      "    jobrole,\n",
      "    gender,\n",
      "    ROUND(AVG(monthlyincome)::numeric, 2) as avg_monthly_income\n",
      "FROM\n",
      "    employee_attrition\n",
      "GROUP BY\n",
      "    jobrole,\n",
      "    gender\n",
      "ORDER BY\n",
      "    jobrole,\n",
      "    gender\n",
      "============================================================\n",
      "\n",
      "✅ Query executed successfully. Returned 18 rows.\n",
      "\n"
     ]
    },
    {
     "data": {
      "text/html": [
       "<div>\n",
       "<style scoped>\n",
       "    .dataframe tbody tr th:only-of-type {\n",
       "        vertical-align: middle;\n",
       "    }\n",
       "\n",
       "    .dataframe tbody tr th {\n",
       "        vertical-align: top;\n",
       "    }\n",
       "\n",
       "    .dataframe thead th {\n",
       "        text-align: right;\n",
       "    }\n",
       "</style>\n",
       "<table border=\"1\" class=\"dataframe\">\n",
       "  <thead>\n",
       "    <tr style=\"text-align: right;\">\n",
       "      <th></th>\n",
       "      <th>jobrole</th>\n",
       "      <th>gender</th>\n",
       "      <th>avg_monthly_income</th>\n",
       "    </tr>\n",
       "  </thead>\n",
       "  <tbody>\n",
       "    <tr>\n",
       "      <th>0</th>\n",
       "      <td>Healthcare Representative</td>\n",
       "      <td>Female</td>\n",
       "      <td>7433.80</td>\n",
       "    </tr>\n",
       "    <tr>\n",
       "      <th>1</th>\n",
       "      <td>Healthcare Representative</td>\n",
       "      <td>Male</td>\n",
       "      <td>7589.30</td>\n",
       "    </tr>\n",
       "    <tr>\n",
       "      <th>2</th>\n",
       "      <td>Human Resources</td>\n",
       "      <td>Female</td>\n",
       "      <td>4540.69</td>\n",
       "    </tr>\n",
       "    <tr>\n",
       "      <th>3</th>\n",
       "      <td>Human Resources</td>\n",
       "      <td>Male</td>\n",
       "      <td>4100.22</td>\n",
       "    </tr>\n",
       "    <tr>\n",
       "      <th>4</th>\n",
       "      <td>Laboratory Technician</td>\n",
       "      <td>Female</td>\n",
       "      <td>3246.91</td>\n",
       "    </tr>\n",
       "    <tr>\n",
       "      <th>5</th>\n",
       "      <td>Laboratory Technician</td>\n",
       "      <td>Male</td>\n",
       "      <td>3232.41</td>\n",
       "    </tr>\n",
       "    <tr>\n",
       "      <th>6</th>\n",
       "      <td>Manager</td>\n",
       "      <td>Female</td>\n",
       "      <td>16915.28</td>\n",
       "    </tr>\n",
       "    <tr>\n",
       "      <th>7</th>\n",
       "      <td>Manager</td>\n",
       "      <td>Male</td>\n",
       "      <td>17409.33</td>\n",
       "    </tr>\n",
       "    <tr>\n",
       "      <th>8</th>\n",
       "      <td>Manufacturing Director</td>\n",
       "      <td>Female</td>\n",
       "      <td>7409.17</td>\n",
       "    </tr>\n",
       "    <tr>\n",
       "      <th>9</th>\n",
       "      <td>Manufacturing Director</td>\n",
       "      <td>Male</td>\n",
       "      <td>7182.67</td>\n",
       "    </tr>\n",
       "    <tr>\n",
       "      <th>10</th>\n",
       "      <td>Research Director</td>\n",
       "      <td>Female</td>\n",
       "      <td>15144.48</td>\n",
       "    </tr>\n",
       "    <tr>\n",
       "      <th>11</th>\n",
       "      <td>Research Director</td>\n",
       "      <td>Male</td>\n",
       "      <td>16657.79</td>\n",
       "    </tr>\n",
       "    <tr>\n",
       "      <th>12</th>\n",
       "      <td>Research Scientist</td>\n",
       "      <td>Female</td>\n",
       "      <td>3344.47</td>\n",
       "    </tr>\n",
       "    <tr>\n",
       "      <th>13</th>\n",
       "      <td>Research Scientist</td>\n",
       "      <td>Male</td>\n",
       "      <td>3173.04</td>\n",
       "    </tr>\n",
       "    <tr>\n",
       "      <th>14</th>\n",
       "      <td>Sales Executive</td>\n",
       "      <td>Female</td>\n",
       "      <td>6764.31</td>\n",
       "    </tr>\n",
       "    <tr>\n",
       "      <th>15</th>\n",
       "      <td>Sales Executive</td>\n",
       "      <td>Male</td>\n",
       "      <td>7033.12</td>\n",
       "    </tr>\n",
       "    <tr>\n",
       "      <th>16</th>\n",
       "      <td>Sales Representative</td>\n",
       "      <td>Female</td>\n",
       "      <td>2671.95</td>\n",
       "    </tr>\n",
       "    <tr>\n",
       "      <th>17</th>\n",
       "      <td>Sales Representative</td>\n",
       "      <td>Male</td>\n",
       "      <td>2587.20</td>\n",
       "    </tr>\n",
       "  </tbody>\n",
       "</table>\n",
       "</div>"
      ],
      "text/plain": [
       "                      jobrole  gender  avg_monthly_income\n",
       "0   Healthcare Representative  Female             7433.80\n",
       "1   Healthcare Representative    Male             7589.30\n",
       "2             Human Resources  Female             4540.69\n",
       "3             Human Resources    Male             4100.22\n",
       "4       Laboratory Technician  Female             3246.91\n",
       "5       Laboratory Technician    Male             3232.41\n",
       "6                     Manager  Female            16915.28\n",
       "7                     Manager    Male            17409.33\n",
       "8      Manufacturing Director  Female             7409.17\n",
       "9      Manufacturing Director    Male             7182.67\n",
       "10          Research Director  Female            15144.48\n",
       "11          Research Director    Male            16657.79\n",
       "12         Research Scientist  Female             3344.47\n",
       "13         Research Scientist    Male             3173.04\n",
       "14            Sales Executive  Female             6764.31\n",
       "15            Sales Executive    Male             7033.12\n",
       "16       Sales Representative  Female             2671.95\n",
       "17       Sales Representative    Male             2587.20"
      ]
     },
     "execution_count": 9,
     "metadata": {},
     "output_type": "execute_result"
    }
   ],
   "source": [
    "# Example 3: Average salary by job role and gender\n",
    "df3 = agent.query(\"Show me the average monthly income by job role and gender\")\n",
    "df3"
   ]
  },
  {
   "cell_type": "code",
   "execution_count": 10,
   "id": "a2529e98",
   "metadata": {},
   "outputs": [
    {
     "name": "stdout",
     "output_type": "stream",
     "text": [
      "============================================================\n",
      "GENERATED SQL:\n",
      "============================================================\n",
      "SELECT\n",
      "    overtime,\n",
      "    COUNT(*) as total_employees,\n",
      "    COUNT(CASE WHEN attrition = 'Yes' THEN 1 END) as left,\n",
      "    ROUND((COUNT(CASE WHEN attrition = 'Yes' THEN 1 END)::numeric / COUNT(*)) * 100, 2) as attrition_rate\n",
      "FROM employee_attrition\n",
      "GROUP BY overtime\n",
      "ORDER BY overtime\n",
      "============================================================\n",
      "\n",
      "✅ Query executed successfully. Returned 2 rows.\n",
      "\n"
     ]
    },
    {
     "data": {
      "text/html": [
       "<div>\n",
       "<style scoped>\n",
       "    .dataframe tbody tr th:only-of-type {\n",
       "        vertical-align: middle;\n",
       "    }\n",
       "\n",
       "    .dataframe tbody tr th {\n",
       "        vertical-align: top;\n",
       "    }\n",
       "\n",
       "    .dataframe thead th {\n",
       "        text-align: right;\n",
       "    }\n",
       "</style>\n",
       "<table border=\"1\" class=\"dataframe\">\n",
       "  <thead>\n",
       "    <tr style=\"text-align: right;\">\n",
       "      <th></th>\n",
       "      <th>overtime</th>\n",
       "      <th>total_employees</th>\n",
       "      <th>left</th>\n",
       "      <th>attrition_rate</th>\n",
       "    </tr>\n",
       "  </thead>\n",
       "  <tbody>\n",
       "    <tr>\n",
       "      <th>0</th>\n",
       "      <td>No</td>\n",
       "      <td>1054</td>\n",
       "      <td>110</td>\n",
       "      <td>10.44</td>\n",
       "    </tr>\n",
       "    <tr>\n",
       "      <th>1</th>\n",
       "      <td>Yes</td>\n",
       "      <td>416</td>\n",
       "      <td>127</td>\n",
       "      <td>30.53</td>\n",
       "    </tr>\n",
       "  </tbody>\n",
       "</table>\n",
       "</div>"
      ],
      "text/plain": [
       "  overtime  total_employees  left  attrition_rate\n",
       "0       No             1054   110           10.44\n",
       "1      Yes              416   127           30.53"
      ]
     },
     "execution_count": 10,
     "metadata": {},
     "output_type": "execute_result"
    }
   ],
   "source": [
    "# Example 4: Overtime and attrition analysis\n",
    "df4 = agent.query(\"How many employees work overtime and what's their attrition rate compared to non-overtime workers?\")\n",
    "df4"
   ]
  },
  {
   "cell_type": "code",
   "execution_count": 11,
   "id": "a05f068b",
   "metadata": {},
   "outputs": [
    {
     "name": "stdout",
     "output_type": "stream",
     "text": [
      "============================================================\n",
      "GENERATED SQL:\n",
      "============================================================\n",
      "SELECT\n",
      "    department,\n",
      "    ROUND(AVG(worklifebalance)::numeric, 2) as avg_worklifebalance,\n",
      "    ROUND((COUNT(CASE WHEN attrition='Yes' THEN 1 END)::numeric / COUNT(*)::numeric) * 100, 2) as attrition_rate\n",
      "FROM employee_attrition\n",
      "GROUP BY department\n",
      "ORDER BY avg_worklifebalance DESC\n",
      "============================================================\n",
      "\n",
      "✅ Query executed successfully. Returned 3 rows.\n",
      "\n"
     ]
    },
    {
     "data": {
      "text/html": [
       "<div>\n",
       "<style scoped>\n",
       "    .dataframe tbody tr th:only-of-type {\n",
       "        vertical-align: middle;\n",
       "    }\n",
       "\n",
       "    .dataframe tbody tr th {\n",
       "        vertical-align: top;\n",
       "    }\n",
       "\n",
       "    .dataframe thead th {\n",
       "        text-align: right;\n",
       "    }\n",
       "</style>\n",
       "<table border=\"1\" class=\"dataframe\">\n",
       "  <thead>\n",
       "    <tr style=\"text-align: right;\">\n",
       "      <th></th>\n",
       "      <th>department</th>\n",
       "      <th>avg_worklifebalance</th>\n",
       "      <th>attrition_rate</th>\n",
       "    </tr>\n",
       "  </thead>\n",
       "  <tbody>\n",
       "    <tr>\n",
       "      <th>0</th>\n",
       "      <td>Human Resources</td>\n",
       "      <td>2.92</td>\n",
       "      <td>19.05</td>\n",
       "    </tr>\n",
       "    <tr>\n",
       "      <th>1</th>\n",
       "      <td>Sales</td>\n",
       "      <td>2.82</td>\n",
       "      <td>20.63</td>\n",
       "    </tr>\n",
       "    <tr>\n",
       "      <th>2</th>\n",
       "      <td>Research &amp; Development</td>\n",
       "      <td>2.73</td>\n",
       "      <td>13.84</td>\n",
       "    </tr>\n",
       "  </tbody>\n",
       "</table>\n",
       "</div>"
      ],
      "text/plain": [
       "               department  avg_worklifebalance  attrition_rate\n",
       "0         Human Resources                 2.92           19.05\n",
       "1                   Sales                 2.82           20.63\n",
       "2  Research & Development                 2.73           13.84"
      ]
     },
     "execution_count": 11,
     "metadata": {},
     "output_type": "execute_result"
    }
   ],
   "source": [
    "# Example 5: Work-life balance analysis\n",
    "df5 = agent.query(\"Show me the average work-life balance rating by department and its correlation with attrition\")\n",
    "df5"
   ]
  },
  {
   "cell_type": "code",
   "execution_count": 12,
   "id": "d231cb8f",
   "metadata": {},
   "outputs": [
    {
     "name": "stdout",
     "output_type": "stream",
     "text": [
      "============================================================\n",
      "GENERATED SQL:\n",
      "============================================================\n",
      "SELECT\n",
      "    department,\n",
      "    ROUND((AVG(monthlyincome::numeric) * 100 - AVG(CASE WHEN gender = 'Female' THEN monthlyincome::numeric ELSE NULL END)::numeric) / AVG(monthlyincome::numeric), 2) as gender_pay_gap\n",
      "FROM\n",
      "    employee_attrition\n",
      "GROUP BY\n",
      "    department\n",
      "ORDER BY\n",
      "    gender_pay_gap DESC\n",
      "============================================================\n",
      "\n",
      "✅ Query executed successfully. Returned 3 rows.\n",
      "\n"
     ]
    },
    {
     "data": {
      "text/html": [
       "<div>\n",
       "<style scoped>\n",
       "    .dataframe tbody tr th:only-of-type {\n",
       "        vertical-align: middle;\n",
       "    }\n",
       "\n",
       "    .dataframe tbody tr th {\n",
       "        vertical-align: top;\n",
       "    }\n",
       "\n",
       "    .dataframe thead th {\n",
       "        text-align: right;\n",
       "    }\n",
       "</style>\n",
       "<table border=\"1\" class=\"dataframe\">\n",
       "  <thead>\n",
       "    <tr style=\"text-align: right;\">\n",
       "      <th></th>\n",
       "      <th>department</th>\n",
       "      <th>gender_pay_gap</th>\n",
       "    </tr>\n",
       "  </thead>\n",
       "  <tbody>\n",
       "    <tr>\n",
       "      <th>0</th>\n",
       "      <td>Sales</td>\n",
       "      <td>99.00</td>\n",
       "    </tr>\n",
       "    <tr>\n",
       "      <th>1</th>\n",
       "      <td>Research &amp; Development</td>\n",
       "      <td>98.96</td>\n",
       "    </tr>\n",
       "    <tr>\n",
       "      <th>2</th>\n",
       "      <td>Human Resources</td>\n",
       "      <td>98.91</td>\n",
       "    </tr>\n",
       "  </tbody>\n",
       "</table>\n",
       "</div>"
      ],
      "text/plain": [
       "               department  gender_pay_gap\n",
       "0                   Sales           99.00\n",
       "1  Research & Development           98.96\n",
       "2         Human Resources           98.91"
      ]
     },
     "execution_count": 12,
     "metadata": {},
     "output_type": "execute_result"
    }
   ],
   "source": [
    "# Example 6: Gender pay gap analysis\n",
    "df6 = agent.query(\"Calculate the gender pay gap for each department\")\n",
    "df6"
   ]
  },
  {
   "cell_type": "markdown",
   "id": "942527bc",
   "metadata": {},
   "source": [
    "## 7. Usage Guide\n",
    "\n",
    "### Simple Usage\n",
    "\n",
    "```python\n",
    "# Complete pipeline: user query → DataFrame\n",
    "df = agent.query(\"Your natural language question here\")\n",
    "```\n",
    "\n",
    "### Advanced Usage\n",
    "\n",
    "```python\n",
    "# Without verbose output\n",
    "df = agent.query(\"Your question\", verbose=False)\n",
    "\n",
    "# Just generate SQL without executing\n",
    "sql = agent.generate_sql(\"Your question\")\n",
    "print(sql)\n",
    "\n",
    "# Execute pre-written SQL\n",
    "df = agent.execute_sql(\"SELECT * FROM hr_employee_attrition LIMIT 10\")\n",
    "```\n",
    "\n",
    "### Features\n",
    "\n",
    "- ✅ **Automatic SQL generation** from natural language\n",
    "- ✅ **Built-in data dictionary** and KPI formulas in context\n",
    "- ✅ **SQL safety validation** (SELECT-only, blocks dangerous operations)\n",
    "- ✅ **Direct DataFrame output** for easy analysis\n",
    "- ✅ **Verbose mode** to see generated SQL\n",
    "- ✅ **Clean error handling** with informative messages\n",
    "\n",
    "### Security Features\n",
    "\n",
    "The agent automatically blocks:\n",
    "- INSERT, UPDATE, DELETE operations\n",
    "- DROP, ALTER, TRUNCATE, CREATE operations\n",
    "- Non-SELECT queries\n",
    "- EXEC commands"
   ]
  },
  {
   "cell_type": "markdown",
   "id": "d63ffb30",
   "metadata": {},
   "source": [
    "## 8. Try Your Own Queries\n",
    "\n",
    "Use the cell below to ask your own questions:"
   ]
  },
  {
   "cell_type": "code",
   "execution_count": 13,
   "id": "fb0ace72",
   "metadata": {},
   "outputs": [
    {
     "name": "stdout",
     "output_type": "stream",
     "text": [
      "============================================================\n",
      "GENERATED SQL:\n",
      "============================================================\n",
      "SELECT\n",
      "    department,\n",
      "    COUNT(*) as total_employees,\n",
      "    COUNT(CASE WHEN attrition = 'Yes' THEN 1 END) as employees_left,\n",
      "    ROUND((COUNT(CASE WHEN attrition = 'Yes' THEN 1 END)::numeric / COUNT(*)::numeric) * 100, 2) as attrition_rate\n",
      "FROM employee_attrition\n",
      "GROUP BY department\n",
      "ORDER BY attrition_rate DESC\n",
      "============================================================\n",
      "\n",
      "✅ Query executed successfully. Returned 3 rows.\n",
      "\n"
     ]
    },
    {
     "data": {
      "text/html": [
       "<div>\n",
       "<style scoped>\n",
       "    .dataframe tbody tr th:only-of-type {\n",
       "        vertical-align: middle;\n",
       "    }\n",
       "\n",
       "    .dataframe tbody tr th {\n",
       "        vertical-align: top;\n",
       "    }\n",
       "\n",
       "    .dataframe thead th {\n",
       "        text-align: right;\n",
       "    }\n",
       "</style>\n",
       "<table border=\"1\" class=\"dataframe\">\n",
       "  <thead>\n",
       "    <tr style=\"text-align: right;\">\n",
       "      <th></th>\n",
       "      <th>department</th>\n",
       "      <th>total_employees</th>\n",
       "      <th>employees_left</th>\n",
       "      <th>attrition_rate</th>\n",
       "    </tr>\n",
       "  </thead>\n",
       "  <tbody>\n",
       "    <tr>\n",
       "      <th>0</th>\n",
       "      <td>Sales</td>\n",
       "      <td>446</td>\n",
       "      <td>92</td>\n",
       "      <td>20.63</td>\n",
       "    </tr>\n",
       "    <tr>\n",
       "      <th>1</th>\n",
       "      <td>Human Resources</td>\n",
       "      <td>63</td>\n",
       "      <td>12</td>\n",
       "      <td>19.05</td>\n",
       "    </tr>\n",
       "    <tr>\n",
       "      <th>2</th>\n",
       "      <td>Research &amp; Development</td>\n",
       "      <td>961</td>\n",
       "      <td>133</td>\n",
       "      <td>13.84</td>\n",
       "    </tr>\n",
       "  </tbody>\n",
       "</table>\n",
       "</div>"
      ],
      "text/plain": [
       "               department  total_employees  employees_left  attrition_rate\n",
       "0                   Sales              446              92           20.63\n",
       "1         Human Resources               63              12           19.05\n",
       "2  Research & Development              961             133           13.84"
      ]
     },
     "execution_count": 13,
     "metadata": {},
     "output_type": "execute_result"
    }
   ],
   "source": [
    "# Your custom query here\n",
    "df = agent.query(\"Your question here\")\n",
    "df"
   ]
  },
  {
   "cell_type": "code",
   "execution_count": 14,
   "id": "1892a0e1",
   "metadata": {},
   "outputs": [
    {
     "name": "stdout",
     "output_type": "stream",
     "text": [
      "============================================================\n",
      "GENERATED SQL:\n",
      "============================================================\n",
      "SELECT\n",
      "    ROUND((COUNT(CASE WHEN gender = 'Male' AND attrition = 'Yes' THEN 1 END)::numeric / COUNT(CASE WHEN gender = 'Male' THEN 1 END)::numeric) * 100, 2) as male_attrition_rate\n",
      "FROM employee_attrition\n",
      "============================================================\n",
      "\n",
      "✅ Query executed successfully. Returned 1 rows.\n",
      "\n"
     ]
    },
    {
     "data": {
      "text/html": [
       "<div>\n",
       "<style scoped>\n",
       "    .dataframe tbody tr th:only-of-type {\n",
       "        vertical-align: middle;\n",
       "    }\n",
       "\n",
       "    .dataframe tbody tr th {\n",
       "        vertical-align: top;\n",
       "    }\n",
       "\n",
       "    .dataframe thead th {\n",
       "        text-align: right;\n",
       "    }\n",
       "</style>\n",
       "<table border=\"1\" class=\"dataframe\">\n",
       "  <thead>\n",
       "    <tr style=\"text-align: right;\">\n",
       "      <th></th>\n",
       "      <th>male_attrition_rate</th>\n",
       "    </tr>\n",
       "  </thead>\n",
       "  <tbody>\n",
       "    <tr>\n",
       "      <th>0</th>\n",
       "      <td>17.01</td>\n",
       "    </tr>\n",
       "  </tbody>\n",
       "</table>\n",
       "</div>"
      ],
      "text/plain": [
       "   male_attrition_rate\n",
       "0                17.01"
      ]
     },
     "execution_count": 14,
     "metadata": {},
     "output_type": "execute_result"
    }
   ],
   "source": [
    "# Your custom query here\n",
    "df = agent.query(\"what is the male attrition rate?\")\n",
    "df"
   ]
  },
  {
   "cell_type": "code",
   "execution_count": 15,
   "id": "ced5837f",
   "metadata": {},
   "outputs": [
    {
     "name": "stdout",
     "output_type": "stream",
     "text": [
      "Attrition by Gender:\n"
     ]
    },
    {
     "data": {
      "text/html": [
       "<div>\n",
       "<style scoped>\n",
       "    .dataframe tbody tr th:only-of-type {\n",
       "        vertical-align: middle;\n",
       "    }\n",
       "\n",
       "    .dataframe tbody tr th {\n",
       "        vertical-align: top;\n",
       "    }\n",
       "\n",
       "    .dataframe thead th {\n",
       "        text-align: right;\n",
       "    }\n",
       "</style>\n",
       "<table border=\"1\" class=\"dataframe\">\n",
       "  <thead>\n",
       "    <tr style=\"text-align: right;\">\n",
       "      <th></th>\n",
       "      <th>gender</th>\n",
       "      <th>total_employees</th>\n",
       "      <th>left_company</th>\n",
       "      <th>attrition_rate</th>\n",
       "    </tr>\n",
       "  </thead>\n",
       "  <tbody>\n",
       "    <tr>\n",
       "      <th>0</th>\n",
       "      <td>Female</td>\n",
       "      <td>588</td>\n",
       "      <td>87</td>\n",
       "      <td>14.80</td>\n",
       "    </tr>\n",
       "    <tr>\n",
       "      <th>1</th>\n",
       "      <td>Male</td>\n",
       "      <td>882</td>\n",
       "      <td>150</td>\n",
       "      <td>17.01</td>\n",
       "    </tr>\n",
       "  </tbody>\n",
       "</table>\n",
       "</div>"
      ],
      "text/plain": [
       "   gender  total_employees  left_company  attrition_rate\n",
       "0  Female              588            87           14.80\n",
       "1    Male              882           150           17.01"
      ]
     },
     "execution_count": 15,
     "metadata": {},
     "output_type": "execute_result"
    }
   ],
   "source": [
    "# Let's verify the data - check male employees and their attrition\n",
    "test_sql = \"\"\"\n",
    "SELECT \n",
    "    gender,\n",
    "    COUNT(*) as total_employees,\n",
    "    COUNT(CASE WHEN attrition = 'Yes' THEN 1 END) as left_company,\n",
    "    ROUND((COUNT(CASE WHEN attrition = 'Yes' THEN 1 END)::numeric / COUNT(*)::numeric) * 100, 2) as attrition_rate\n",
    "FROM employee_attrition\n",
    "GROUP BY gender\n",
    "\"\"\"\n",
    "\n",
    "df_test = agent.execute_sql(test_sql)\n",
    "print(\"Attrition by Gender:\")\n",
    "df_test"
   ]
  },
  {
   "cell_type": "markdown",
   "id": "24407540",
   "metadata": {},
   "source": [
    "### 🔍 Analysis of the Issue\n",
    "\n",
    "The LLM generated this SQL:\n",
    "```sql\n",
    "SELECT (COUNT(CASE WHEN attrition = 'Yes' AND gender = 'Male' THEN 1 END) / COUNT(*)) * 100\n",
    "FROM employee_attrition\n",
    "```\n",
    "\n",
    "**Problems:**\n",
    "1. **Wrong denominator**: Divides by ALL employees, not just males\n",
    "2. **Integer division**: PostgreSQL does integer division by default (150/1470 = 0)\n",
    "\n",
    "**Correct approach:**\n",
    "- Filter for males first with WHERE clause\n",
    "- Cast to numeric/decimal for proper division\n",
    "- Or use `COUNT(*) FILTER (WHERE ...)` syntax\n",
    "\n",
    "**Actual Result:** Male attrition rate is **17.01%** (150 out of 882 male employees left)"
   ]
  },
  {
   "cell_type": "code",
   "execution_count": 16,
   "id": "d416ff11",
   "metadata": {},
   "outputs": [
    {
     "name": "stdout",
     "output_type": "stream",
     "text": [
      "============================================================\n",
      "GENERATED SQL:\n",
      "============================================================\n",
      "SELECT\n",
      "    ROUND((COUNT(CASE WHEN gender = 'Male' AND attrition = 'Yes' THEN 1 END)::numeric / COUNT(CASE WHEN gender = 'Male' THEN 1 END)::numeric) * 100, 2) as male_attrition_rate\n",
      "FROM employee_attrition\n",
      "============================================================\n",
      "\n",
      "✅ Query executed successfully. Returned 1 rows.\n",
      "\n"
     ]
    },
    {
     "data": {
      "text/html": [
       "<div>\n",
       "<style scoped>\n",
       "    .dataframe tbody tr th:only-of-type {\n",
       "        vertical-align: middle;\n",
       "    }\n",
       "\n",
       "    .dataframe tbody tr th {\n",
       "        vertical-align: top;\n",
       "    }\n",
       "\n",
       "    .dataframe thead th {\n",
       "        text-align: right;\n",
       "    }\n",
       "</style>\n",
       "<table border=\"1\" class=\"dataframe\">\n",
       "  <thead>\n",
       "    <tr style=\"text-align: right;\">\n",
       "      <th></th>\n",
       "      <th>male_attrition_rate</th>\n",
       "    </tr>\n",
       "  </thead>\n",
       "  <tbody>\n",
       "    <tr>\n",
       "      <th>0</th>\n",
       "      <td>17.01</td>\n",
       "    </tr>\n",
       "  </tbody>\n",
       "</table>\n",
       "</div>"
      ],
      "text/plain": [
       "   male_attrition_rate\n",
       "0                17.01"
      ]
     },
     "execution_count": 16,
     "metadata": {},
     "output_type": "execute_result"
    }
   ],
   "source": [
    "# Test again with the improved agent\n",
    "df_male_attrition = agent.query(\"What is the male attrition rate?\")\n",
    "df_male_attrition"
   ]
  },
  {
   "cell_type": "code",
   "execution_count": 17,
   "id": "f8de4d07",
   "metadata": {},
   "outputs": [
    {
     "name": "stdout",
     "output_type": "stream",
     "text": [
      "============================================================\n",
      "GENERATED SQL:\n",
      "============================================================\n",
      "SELECT\n",
      "    ROUND((COUNT(CASE WHEN gender = 'Male' AND attrition = 'Yes' THEN 1 END)::numeric / COUNT(CASE WHEN gender = 'Male' THEN 1 END)::numeric) * 100, 2) as male_attrition_rate\n",
      "FROM employee_attrition\n",
      "============================================================\n",
      "\n",
      "✅ Query executed successfully. Returned 1 rows.\n",
      "\n"
     ]
    },
    {
     "data": {
      "text/html": [
       "<div>\n",
       "<style scoped>\n",
       "    .dataframe tbody tr th:only-of-type {\n",
       "        vertical-align: middle;\n",
       "    }\n",
       "\n",
       "    .dataframe tbody tr th {\n",
       "        vertical-align: top;\n",
       "    }\n",
       "\n",
       "    .dataframe thead th {\n",
       "        text-align: right;\n",
       "    }\n",
       "</style>\n",
       "<table border=\"1\" class=\"dataframe\">\n",
       "  <thead>\n",
       "    <tr style=\"text-align: right;\">\n",
       "      <th></th>\n",
       "      <th>male_attrition_rate</th>\n",
       "    </tr>\n",
       "  </thead>\n",
       "  <tbody>\n",
       "    <tr>\n",
       "      <th>0</th>\n",
       "      <td>17.01</td>\n",
       "    </tr>\n",
       "  </tbody>\n",
       "</table>\n",
       "</div>"
      ],
      "text/plain": [
       "   male_attrition_rate\n",
       "0                17.01"
      ]
     },
     "execution_count": 17,
     "metadata": {},
     "output_type": "execute_result"
    }
   ],
   "source": [
    "# Test again with the improved agent\n",
    "df_male_attrition = agent.query(\"What is the male attrition rate?\")\n",
    "df_male_attrition"
   ]
  },
  {
   "cell_type": "code",
   "execution_count": 18,
   "id": "f774a42c",
   "metadata": {},
   "outputs": [
    {
     "name": "stdout",
     "output_type": "stream",
     "text": [
      "============================================================\n",
      "GENERATED SQL:\n",
      "============================================================\n",
      "SELECT\n",
      "    ROUND((COUNT(CASE WHEN gender = 'Male' AND attrition = 'Yes' THEN 1 END)::numeric / COUNT(CASE WHEN gender = 'Male' THEN 1 END)::numeric) * 100, 2) as male_attrition_rate\n",
      "FROM employee_attrition\n",
      "============================================================\n",
      "\n",
      "✅ Query executed successfully. Returned 1 rows.\n",
      "\n"
     ]
    },
    {
     "data": {
      "text/html": [
       "<div>\n",
       "<style scoped>\n",
       "    .dataframe tbody tr th:only-of-type {\n",
       "        vertical-align: middle;\n",
       "    }\n",
       "\n",
       "    .dataframe tbody tr th {\n",
       "        vertical-align: top;\n",
       "    }\n",
       "\n",
       "    .dataframe thead th {\n",
       "        text-align: right;\n",
       "    }\n",
       "</style>\n",
       "<table border=\"1\" class=\"dataframe\">\n",
       "  <thead>\n",
       "    <tr style=\"text-align: right;\">\n",
       "      <th></th>\n",
       "      <th>male_attrition_rate</th>\n",
       "    </tr>\n",
       "  </thead>\n",
       "  <tbody>\n",
       "    <tr>\n",
       "      <th>0</th>\n",
       "      <td>17.01</td>\n",
       "    </tr>\n",
       "  </tbody>\n",
       "</table>\n",
       "</div>"
      ],
      "text/plain": [
       "   male_attrition_rate\n",
       "0                17.01"
      ]
     },
     "execution_count": 18,
     "metadata": {},
     "output_type": "execute_result"
    }
   ],
   "source": [
    "# Test again with the improved agent\n",
    "df_male_attrition = agent.query(\"What is the male attrition rate?\")\n",
    "df_male_attrition"
   ]
  },
  {
   "cell_type": "code",
   "execution_count": 19,
   "id": "77991aff",
   "metadata": {},
   "outputs": [
    {
     "name": "stdout",
     "output_type": "stream",
     "text": [
      "============================================================\n",
      "GENERATED SQL:\n",
      "============================================================\n",
      "SELECT\n",
      "    ROUND((COUNT(CASE WHEN gender = 'Male' AND attrition = 'Yes' THEN 1 END)::numeric / COUNT(CASE WHEN gender = 'Male' THEN 1 END)::numeric) * 100, 2) as male_attrition_rate\n",
      "FROM employee_attrition\n",
      "============================================================\n",
      "\n",
      "✅ Query executed successfully. Returned 1 rows.\n",
      "\n"
     ]
    },
    {
     "data": {
      "text/html": [
       "<div>\n",
       "<style scoped>\n",
       "    .dataframe tbody tr th:only-of-type {\n",
       "        vertical-align: middle;\n",
       "    }\n",
       "\n",
       "    .dataframe tbody tr th {\n",
       "        vertical-align: top;\n",
       "    }\n",
       "\n",
       "    .dataframe thead th {\n",
       "        text-align: right;\n",
       "    }\n",
       "</style>\n",
       "<table border=\"1\" class=\"dataframe\">\n",
       "  <thead>\n",
       "    <tr style=\"text-align: right;\">\n",
       "      <th></th>\n",
       "      <th>male_attrition_rate</th>\n",
       "    </tr>\n",
       "  </thead>\n",
       "  <tbody>\n",
       "    <tr>\n",
       "      <th>0</th>\n",
       "      <td>17.01</td>\n",
       "    </tr>\n",
       "  </tbody>\n",
       "</table>\n",
       "</div>"
      ],
      "text/plain": [
       "   male_attrition_rate\n",
       "0                17.01"
      ]
     },
     "execution_count": 19,
     "metadata": {},
     "output_type": "execute_result"
    }
   ],
   "source": [
    "# Test again with the improved agent\n",
    "df_male_attrition = agent.query(\"What is the male attrition rate?\")\n",
    "df_male_attrition"
   ]
  },
  {
   "cell_type": "code",
   "execution_count": 20,
   "id": "da46ea91",
   "metadata": {},
   "outputs": [
    {
     "name": "stdout",
     "output_type": "stream",
     "text": [
      "============================================================\n",
      "GENERATED SQL:\n",
      "============================================================\n",
      "SELECT\n",
      "    ROUND((COUNT(CASE WHEN gender = 'Male' AND attrition = 'Yes' THEN 1 END)::numeric / COUNT(CASE WHEN gender = 'Male' THEN 1 END)::numeric) * 100, 2) as male_attrition_rate\n",
      "FROM employee_attrition\n",
      "============================================================\n",
      "\n",
      "✅ Query executed successfully. Returned 1 rows.\n",
      "\n"
     ]
    },
    {
     "data": {
      "text/html": [
       "<div>\n",
       "<style scoped>\n",
       "    .dataframe tbody tr th:only-of-type {\n",
       "        vertical-align: middle;\n",
       "    }\n",
       "\n",
       "    .dataframe tbody tr th {\n",
       "        vertical-align: top;\n",
       "    }\n",
       "\n",
       "    .dataframe thead th {\n",
       "        text-align: right;\n",
       "    }\n",
       "</style>\n",
       "<table border=\"1\" class=\"dataframe\">\n",
       "  <thead>\n",
       "    <tr style=\"text-align: right;\">\n",
       "      <th></th>\n",
       "      <th>male_attrition_rate</th>\n",
       "    </tr>\n",
       "  </thead>\n",
       "  <tbody>\n",
       "    <tr>\n",
       "      <th>0</th>\n",
       "      <td>17.01</td>\n",
       "    </tr>\n",
       "  </tbody>\n",
       "</table>\n",
       "</div>"
      ],
      "text/plain": [
       "   male_attrition_rate\n",
       "0                17.01"
      ]
     },
     "execution_count": 20,
     "metadata": {},
     "output_type": "execute_result"
    }
   ],
   "source": [
    "# Test again with the improved agent\n",
    "df_male_attrition = agent.query(\"What is the male attrition rate?\")\n",
    "df_male_attrition"
   ]
  },
  {
   "cell_type": "code",
   "execution_count": 21,
   "id": "825c4d22",
   "metadata": {},
   "outputs": [
    {
     "name": "stdout",
     "output_type": "stream",
     "text": [
      "============================================================\n",
      "GENERATED SQL:\n",
      "============================================================\n",
      "SELECT\n",
      "    ROUND((COUNT(CASE WHEN gender = 'Male' AND attrition = 'Yes' THEN 1 END)::numeric / COUNT(CASE WHEN gender = 'Male' THEN 1 END)::numeric) * 100, 2) as male_attrition_rate\n",
      "FROM employee_attrition\n",
      "============================================================\n",
      "\n",
      "✅ Query executed successfully. Returned 1 rows.\n",
      "\n"
     ]
    },
    {
     "data": {
      "text/html": [
       "<div>\n",
       "<style scoped>\n",
       "    .dataframe tbody tr th:only-of-type {\n",
       "        vertical-align: middle;\n",
       "    }\n",
       "\n",
       "    .dataframe tbody tr th {\n",
       "        vertical-align: top;\n",
       "    }\n",
       "\n",
       "    .dataframe thead th {\n",
       "        text-align: right;\n",
       "    }\n",
       "</style>\n",
       "<table border=\"1\" class=\"dataframe\">\n",
       "  <thead>\n",
       "    <tr style=\"text-align: right;\">\n",
       "      <th></th>\n",
       "      <th>male_attrition_rate</th>\n",
       "    </tr>\n",
       "  </thead>\n",
       "  <tbody>\n",
       "    <tr>\n",
       "      <th>0</th>\n",
       "      <td>17.01</td>\n",
       "    </tr>\n",
       "  </tbody>\n",
       "</table>\n",
       "</div>"
      ],
      "text/plain": [
       "   male_attrition_rate\n",
       "0                17.01"
      ]
     },
     "execution_count": 21,
     "metadata": {},
     "output_type": "execute_result"
    }
   ],
   "source": [
    "# Test again with the improved agent\n",
    "df_male_attrition = agent.query(\"What is the male attrition rate?\")\n",
    "df_male_attrition"
   ]
  },
  {
   "cell_type": "code",
   "execution_count": 22,
   "id": "9f0856d3",
   "metadata": {},
   "outputs": [
    {
     "name": "stdout",
     "output_type": "stream",
     "text": [
      "============================================================\n",
      "GENERATED SQL:\n",
      "============================================================\n",
      "SELECT\n",
      "    ROUND((COUNT(CASE WHEN attrition = 'Yes' AND businesstravel = 'Non-Travel' THEN 1 END)::numeric / COUNT(*)::numeric) * 100, 2) as work_from_home_attrition_rate\n",
      "FROM employee_attrition\n",
      "============================================================\n",
      "\n",
      "✅ Query executed successfully. Returned 1 rows.\n",
      "\n"
     ]
    },
    {
     "data": {
      "text/html": [
       "<div>\n",
       "<style scoped>\n",
       "    .dataframe tbody tr th:only-of-type {\n",
       "        vertical-align: middle;\n",
       "    }\n",
       "\n",
       "    .dataframe tbody tr th {\n",
       "        vertical-align: top;\n",
       "    }\n",
       "\n",
       "    .dataframe thead th {\n",
       "        text-align: right;\n",
       "    }\n",
       "</style>\n",
       "<table border=\"1\" class=\"dataframe\">\n",
       "  <thead>\n",
       "    <tr style=\"text-align: right;\">\n",
       "      <th></th>\n",
       "      <th>work_from_home_attrition_rate</th>\n",
       "    </tr>\n",
       "  </thead>\n",
       "  <tbody>\n",
       "    <tr>\n",
       "      <th>0</th>\n",
       "      <td>0.82</td>\n",
       "    </tr>\n",
       "  </tbody>\n",
       "</table>\n",
       "</div>"
      ],
      "text/plain": [
       "   work_from_home_attrition_rate\n",
       "0                           0.82"
      ]
     },
     "execution_count": 22,
     "metadata": {},
     "output_type": "execute_result"
    }
   ],
   "source": [
    "# Your custom query here\n",
    "df = agent.query(\"What is the work from home attrition rate?\")\n",
    "df"
   ]
  },
  {
   "cell_type": "code",
   "execution_count": 23,
   "id": "744d6e39",
   "metadata": {},
   "outputs": [
    {
     "name": "stdout",
     "output_type": "stream",
     "text": [
      "Business Travel Categories and Attrition:\n"
     ]
    },
    {
     "data": {
      "text/html": [
       "<div>\n",
       "<style scoped>\n",
       "    .dataframe tbody tr th:only-of-type {\n",
       "        vertical-align: middle;\n",
       "    }\n",
       "\n",
       "    .dataframe tbody tr th {\n",
       "        vertical-align: top;\n",
       "    }\n",
       "\n",
       "    .dataframe thead th {\n",
       "        text-align: right;\n",
       "    }\n",
       "</style>\n",
       "<table border=\"1\" class=\"dataframe\">\n",
       "  <thead>\n",
       "    <tr style=\"text-align: right;\">\n",
       "      <th></th>\n",
       "      <th>businesstravel</th>\n",
       "      <th>count</th>\n",
       "      <th>attrition_count</th>\n",
       "      <th>attrition_rate</th>\n",
       "    </tr>\n",
       "  </thead>\n",
       "  <tbody>\n",
       "    <tr>\n",
       "      <th>0</th>\n",
       "      <td>Travel_Rarely</td>\n",
       "      <td>1043</td>\n",
       "      <td>156</td>\n",
       "      <td>14.96</td>\n",
       "    </tr>\n",
       "    <tr>\n",
       "      <th>1</th>\n",
       "      <td>Travel_Frequently</td>\n",
       "      <td>277</td>\n",
       "      <td>69</td>\n",
       "      <td>24.91</td>\n",
       "    </tr>\n",
       "    <tr>\n",
       "      <th>2</th>\n",
       "      <td>Non-Travel</td>\n",
       "      <td>150</td>\n",
       "      <td>12</td>\n",
       "      <td>8.00</td>\n",
       "    </tr>\n",
       "  </tbody>\n",
       "</table>\n",
       "</div>"
      ],
      "text/plain": [
       "      businesstravel  count  attrition_count  attrition_rate\n",
       "0      Travel_Rarely   1043              156           14.96\n",
       "1  Travel_Frequently    277               69           24.91\n",
       "2         Non-Travel    150               12            8.00"
      ]
     },
     "execution_count": 23,
     "metadata": {},
     "output_type": "execute_result"
    }
   ],
   "source": [
    "# Let's check what values exist in the businesstravel column\n",
    "check_sql = \"\"\"\n",
    "SELECT \n",
    "    businesstravel,\n",
    "    COUNT(*) as count,\n",
    "    COUNT(CASE WHEN attrition = 'Yes' THEN 1 END) as attrition_count,\n",
    "    ROUND((COUNT(CASE WHEN attrition = 'Yes' THEN 1 END)::numeric / COUNT(*)::numeric) * 100, 2) as attrition_rate\n",
    "FROM employee_attrition\n",
    "GROUP BY businesstravel\n",
    "ORDER BY count DESC\n",
    "\"\"\"\n",
    "\n",
    "df_business_travel = agent.execute_sql(check_sql)\n",
    "print(\"Business Travel Categories and Attrition:\")\n",
    "df_business_travel"
   ]
  },
  {
   "cell_type": "markdown",
   "id": "709c99c9",
   "metadata": {},
   "source": [
    "### 🔍 Important Note about \"Work From Home\"\n",
    "\n",
    "The database **does not have a \"work from home\" category**. The `businesstravel` column has:\n",
    "- `Travel_Rarely` - Employees who travel occasionally\n",
    "- `Travel_Frequently` - Employees who travel often\n",
    "- `Non-Travel` - Employees who don't travel (closest to office-based/remote work)\n",
    "\n",
    "If you're asking about \"work from home attrition,\" you likely mean **`Non-Travel`** employees."
   ]
  },
  {
   "cell_type": "code",
   "execution_count": 24,
   "id": "a2879218",
   "metadata": {},
   "outputs": [
    {
     "name": "stdout",
     "output_type": "stream",
     "text": [
      "============================================================\n",
      "GENERATED SQL:\n",
      "============================================================\n",
      "SELECT\n",
      "    ROUND((COUNT(CASE WHEN attrition = 'Yes' THEN 1 END)::numeric / COUNT(*)::numeric) * 100, 2) as non_travel_attrition_rate\n",
      "FROM employee_attrition\n",
      "WHERE businesstravel = 'Non-Travel'\n",
      "============================================================\n",
      "\n",
      "✅ Query executed successfully. Returned 1 rows.\n",
      "\n"
     ]
    },
    {
     "data": {
      "text/html": [
       "<div>\n",
       "<style scoped>\n",
       "    .dataframe tbody tr th:only-of-type {\n",
       "        vertical-align: middle;\n",
       "    }\n",
       "\n",
       "    .dataframe tbody tr th {\n",
       "        vertical-align: top;\n",
       "    }\n",
       "\n",
       "    .dataframe thead th {\n",
       "        text-align: right;\n",
       "    }\n",
       "</style>\n",
       "<table border=\"1\" class=\"dataframe\">\n",
       "  <thead>\n",
       "    <tr style=\"text-align: right;\">\n",
       "      <th></th>\n",
       "      <th>non_travel_attrition_rate</th>\n",
       "    </tr>\n",
       "  </thead>\n",
       "  <tbody>\n",
       "    <tr>\n",
       "      <th>0</th>\n",
       "      <td>8.0</td>\n",
       "    </tr>\n",
       "  </tbody>\n",
       "</table>\n",
       "</div>"
      ],
      "text/plain": [
       "   non_travel_attrition_rate\n",
       "0                        8.0"
      ]
     },
     "execution_count": 24,
     "metadata": {},
     "output_type": "execute_result"
    }
   ],
   "source": [
    "# Correct query: attrition rate for Non-Travel employees\n",
    "df_non_travel = agent.query(\"What is the attrition rate for employees with businesstravel = 'Non-Travel'?\")\n",
    "df_non_travel"
   ]
  },
  {
   "cell_type": "markdown",
   "id": "6993acdb",
   "metadata": {},
   "source": [
    "### ✅ Results Summary\n",
    "\n",
    "**Business Travel Categories & Attrition Rates:**\n",
    "- **Non-Travel**: 8.00% attrition (12 out of 150 employees)\n",
    "- **Travel_Rarely**: 14.96% attrition (156 out of 1,043 employees)\n",
    "- **Travel_Frequently**: 24.91% attrition (69 out of 277 employees)\n",
    "\n",
    "**Key Insight:** Employees who travel frequently have the **highest attrition rate (24.91%)**, while non-traveling employees have the **lowest (8.00%)**. This suggests that frequent business travel may be a factor in employee turnover."
   ]
  },
  {
   "cell_type": "code",
   "execution_count": 25,
   "id": "058f2500",
   "metadata": {},
   "outputs": [
    {
     "name": "stdout",
     "output_type": "stream",
     "text": [
      "============================================================\n",
      "GENERATED SQL:\n",
      "============================================================\n",
      "SELECT\n",
      "    ROUND((COUNT(CASE WHEN gender = 'Male' AND attrition = 'Yes' THEN 1 END)::numeric / COUNT(CASE WHEN gender = 'Male' THEN 1 END)::numeric) * 100, 2) as male_attrition_rate\n",
      "FROM employee_attrition\n",
      "============================================================\n",
      "\n",
      "✅ Query executed successfully. Returned 1 rows.\n",
      "\n"
     ]
    },
    {
     "data": {
      "text/html": [
       "<div>\n",
       "<style scoped>\n",
       "    .dataframe tbody tr th:only-of-type {\n",
       "        vertical-align: middle;\n",
       "    }\n",
       "\n",
       "    .dataframe tbody tr th {\n",
       "        vertical-align: top;\n",
       "    }\n",
       "\n",
       "    .dataframe thead th {\n",
       "        text-align: right;\n",
       "    }\n",
       "</style>\n",
       "<table border=\"1\" class=\"dataframe\">\n",
       "  <thead>\n",
       "    <tr style=\"text-align: right;\">\n",
       "      <th></th>\n",
       "      <th>male_attrition_rate</th>\n",
       "    </tr>\n",
       "  </thead>\n",
       "  <tbody>\n",
       "    <tr>\n",
       "      <th>0</th>\n",
       "      <td>17.01</td>\n",
       "    </tr>\n",
       "  </tbody>\n",
       "</table>\n",
       "</div>"
      ],
      "text/plain": [
       "   male_attrition_rate\n",
       "0                17.01"
      ]
     },
     "execution_count": 25,
     "metadata": {},
     "output_type": "execute_result"
    }
   ],
   "source": [
    "# Your custom query here\n",
    "df = agent.query(\"what is the male attrition rate?\")\n",
    "df"
   ]
  },
  {
   "cell_type": "code",
   "execution_count": 26,
   "id": "0f541431",
   "metadata": {},
   "outputs": [
    {
     "name": "stdout",
     "output_type": "stream",
     "text": [
      "============================================================\n",
      "GENERATED SQL:\n",
      "============================================================\n",
      "SELECT\n",
      "    jobsatisfaction,\n",
      "    department,\n",
      "    COUNT(*) as total_employees,\n",
      "    COUNT(CASE WHEN attrition = 'Yes' THEN 1 END) as employees_left,\n",
      "    ROUND((COUNT(CASE WHEN attrition = 'Yes' THEN 1 END)::numeric / COUNT(*)::numeric) * 100, 2) as attrition_rate\n",
      "FROM employee_attrition\n",
      "GROUP BY jobsatisfaction, department\n",
      "ORDER BY department\n",
      "============================================================\n",
      "\n",
      "✅ Query executed successfully. Returned 12 rows.\n",
      "\n"
     ]
    },
    {
     "data": {
      "text/html": [
       "<div>\n",
       "<style scoped>\n",
       "    .dataframe tbody tr th:only-of-type {\n",
       "        vertical-align: middle;\n",
       "    }\n",
       "\n",
       "    .dataframe tbody tr th {\n",
       "        vertical-align: top;\n",
       "    }\n",
       "\n",
       "    .dataframe thead th {\n",
       "        text-align: right;\n",
       "    }\n",
       "</style>\n",
       "<table border=\"1\" class=\"dataframe\">\n",
       "  <thead>\n",
       "    <tr style=\"text-align: right;\">\n",
       "      <th></th>\n",
       "      <th>jobsatisfaction</th>\n",
       "      <th>department</th>\n",
       "      <th>total_employees</th>\n",
       "      <th>employees_left</th>\n",
       "      <th>attrition_rate</th>\n",
       "    </tr>\n",
       "  </thead>\n",
       "  <tbody>\n",
       "    <tr>\n",
       "      <th>0</th>\n",
       "      <td>2</td>\n",
       "      <td>Human Resources</td>\n",
       "      <td>20</td>\n",
       "      <td>2</td>\n",
       "      <td>10.00</td>\n",
       "    </tr>\n",
       "    <tr>\n",
       "      <th>1</th>\n",
       "      <td>3</td>\n",
       "      <td>Human Resources</td>\n",
       "      <td>15</td>\n",
       "      <td>3</td>\n",
       "      <td>20.00</td>\n",
       "    </tr>\n",
       "    <tr>\n",
       "      <th>2</th>\n",
       "      <td>1</td>\n",
       "      <td>Human Resources</td>\n",
       "      <td>11</td>\n",
       "      <td>5</td>\n",
       "      <td>45.45</td>\n",
       "    </tr>\n",
       "    <tr>\n",
       "      <th>3</th>\n",
       "      <td>4</td>\n",
       "      <td>Human Resources</td>\n",
       "      <td>17</td>\n",
       "      <td>2</td>\n",
       "      <td>11.76</td>\n",
       "    </tr>\n",
       "    <tr>\n",
       "      <th>4</th>\n",
       "      <td>3</td>\n",
       "      <td>Research &amp; Development</td>\n",
       "      <td>300</td>\n",
       "      <td>43</td>\n",
       "      <td>14.33</td>\n",
       "    </tr>\n",
       "    <tr>\n",
       "      <th>5</th>\n",
       "      <td>4</td>\n",
       "      <td>Research &amp; Development</td>\n",
       "      <td>295</td>\n",
       "      <td>28</td>\n",
       "      <td>9.49</td>\n",
       "    </tr>\n",
       "    <tr>\n",
       "      <th>6</th>\n",
       "      <td>2</td>\n",
       "      <td>Research &amp; Development</td>\n",
       "      <td>174</td>\n",
       "      <td>24</td>\n",
       "      <td>13.79</td>\n",
       "    </tr>\n",
       "    <tr>\n",
       "      <th>7</th>\n",
       "      <td>1</td>\n",
       "      <td>Research &amp; Development</td>\n",
       "      <td>192</td>\n",
       "      <td>38</td>\n",
       "      <td>19.79</td>\n",
       "    </tr>\n",
       "    <tr>\n",
       "      <th>8</th>\n",
       "      <td>1</td>\n",
       "      <td>Sales</td>\n",
       "      <td>86</td>\n",
       "      <td>23</td>\n",
       "      <td>26.74</td>\n",
       "    </tr>\n",
       "    <tr>\n",
       "      <th>9</th>\n",
       "      <td>2</td>\n",
       "      <td>Sales</td>\n",
       "      <td>86</td>\n",
       "      <td>20</td>\n",
       "      <td>23.26</td>\n",
       "    </tr>\n",
       "    <tr>\n",
       "      <th>10</th>\n",
       "      <td>4</td>\n",
       "      <td>Sales</td>\n",
       "      <td>147</td>\n",
       "      <td>22</td>\n",
       "      <td>14.97</td>\n",
       "    </tr>\n",
       "    <tr>\n",
       "      <th>11</th>\n",
       "      <td>3</td>\n",
       "      <td>Sales</td>\n",
       "      <td>127</td>\n",
       "      <td>27</td>\n",
       "      <td>21.26</td>\n",
       "    </tr>\n",
       "  </tbody>\n",
       "</table>\n",
       "</div>"
      ],
      "text/plain": [
       "    jobsatisfaction              department  total_employees  employees_left  \\\n",
       "0                 2         Human Resources               20               2   \n",
       "1                 3         Human Resources               15               3   \n",
       "2                 1         Human Resources               11               5   \n",
       "3                 4         Human Resources               17               2   \n",
       "4                 3  Research & Development              300              43   \n",
       "5                 4  Research & Development              295              28   \n",
       "6                 2  Research & Development              174              24   \n",
       "7                 1  Research & Development              192              38   \n",
       "8                 1                   Sales               86              23   \n",
       "9                 2                   Sales               86              20   \n",
       "10                4                   Sales              147              22   \n",
       "11                3                   Sales              127              27   \n",
       "\n",
       "    attrition_rate  \n",
       "0            10.00  \n",
       "1            20.00  \n",
       "2            45.45  \n",
       "3            11.76  \n",
       "4            14.33  \n",
       "5             9.49  \n",
       "6            13.79  \n",
       "7            19.79  \n",
       "8            26.74  \n",
       "9            23.26  \n",
       "10           14.97  \n",
       "11           21.26  "
      ]
     },
     "execution_count": 26,
     "metadata": {},
     "output_type": "execute_result"
    }
   ],
   "source": [
    "# Your custom query here\n",
    "df = agent.query(\"how does job satisfaction impact attrition rates by department?\")\n",
    "df"
   ]
  },
  {
   "cell_type": "markdown",
   "id": "1943bf53",
   "metadata": {},
   "source": [
    "## 9. Dynamic Plotly Visualization Generator\n",
    "\n",
    "This section adds automatic visualization generation:\n",
    "- Takes the DataFrame from SQL query results\n",
    "- Uses LLM to generate appropriate Plotly visualization code\n",
    "- Executes the generated code to display interactive charts\n",
    "\n",
    "**Flow:** `DataFrame → Data Summary → LLM → Python Code → Visualization`"
   ]
  },
  {
   "cell_type": "code",
   "execution_count": 46,
   "id": "1e48ec68",
   "metadata": {},
   "outputs": [
    {
     "name": "stdout",
     "output_type": "stream",
     "text": [
      "✅ PlotlyVisualizationGenerator class defined\n"
     ]
    }
   ],
   "source": [
    "import plotly.express as px\n",
    "import plotly.graph_objects as go\n",
    "from io import StringIO\n",
    "\n",
    "class PlotlyVisualizationGenerator:\n",
    "    \"\"\"\n",
    "    Generates Plotly visualization code dynamically using LLM based on DataFrame content.\n",
    "    \n",
    "    Flow: DataFrame → Data Summary → LLM → Python Code → Visualization\n",
    "    \"\"\"\n",
    "    \n",
    "    def __init__(self, llm):\n",
    "        \"\"\"\n",
    "        Initialize with LLM instance.\n",
    "        \n",
    "        Args:\n",
    "            llm: LangChain ChatOpenAI instance\n",
    "        \"\"\"\n",
    "        self.llm = llm\n",
    "        self._setup_prompt()\n",
    "    \n",
    "    def _setup_prompt(self):\n",
    "        \"\"\"Setup the visualization generation prompt.\"\"\"\n",
    "        self.prompt = ChatPromptTemplate.from_messages([\n",
    "            (\"system\",\n",
    "             \"You are an EXPERT Python Plotly visualization developer. Your job is to generate COMPLETE, \"\n",
    "             \"EXECUTABLE Python code that creates appropriate Plotly visualizations.\\n\\n\"\n",
    "             \n",
    "             \"═══════════════════════════════════════════════════════════\\n\"\n",
    "             \"CRITICAL RULES:\\n\"\n",
    "             \"═══════════════════════════════════════════════════════════\\n\"\n",
    "             \"1. Return ONLY executable Python code - NO markdown, NO explanations, NO comments before/after\\n\"\n",
    "             \"2. Code must be complete and ready to execute\\n\"\n",
    "             \"3. Assume 'df' variable already exists with the data\\n\"\n",
    "             \"4. Import statements should be included if needed (plotly.express as px, plotly.graph_objects as go)\\n\"\n",
    "             \"5. The code MUST create a variable called 'fig' containing the Plotly figure\\n\"\n",
    "             \"6. End with 'fig.show()' to display the visualization\\n\"\n",
    "             \"7. Choose the MOST APPROPRIATE chart type based on the data\\n\"\n",
    "             \"8. Use clear titles, labels, and formatting\\n\"\n",
    "             \"9. Add hover data for interactivity when relevant\\n\"\n",
    "             \"10. Use color schemes that are professional and accessible\\n\"\n",
    "             \"11. IMPORTANT: Use ONLY columns that exist in df - check the data summary!\\n\\n\"\n",
    "             \n",
    "             \"═══════════════════════════════════════════════════════════\\n\"\n",
    "             \"CHART TYPE SELECTION GUIDE:\\n\"\n",
    "             \"═══════════════════════════════════════════════════════════\\n\"\n",
    "             \"- **Bar Chart**: Comparing categories (departments, job roles, etc.)\\n\"\n",
    "             \"- **Grouped/Stacked Bar**: Comparing categories with subcategories (gender by department)\\n\"\n",
    "             \"- **Line Chart**: Trends over time or ordered categories\\n\"\n",
    "             \"- **Scatter Plot**: Correlation between two numerical variables\\n\"\n",
    "             \"- **Box Plot**: Distribution and outliers in numerical data\\n\"\n",
    "             \"- **Heatmap**: Correlation matrix or 2D categorical data\\n\\n\"\n",
    "             \n",
    "             \"═══════════════════════════════════════════════════════════\\n\"\n",
    "             \"COMMON PATTERNS:\\n\"\n",
    "             \"═══════════════════════════════════════════════════════════\\n\\n\"\n",
    "             \n",
    "             \"**Pattern 1: Simple Bar Chart**\\n\"\n",
    "             \"```python\\n\"\n",
    "             \"import plotly.express as px\\n\"\n",
    "             \"fig = px.bar(df, x='category_column', y='value_column', \\n\"\n",
    "             \"             title='Title Here',\\n\"\n",
    "             \"             labels={{'category_column': 'Label', 'value_column': 'Label'}})\\n\"\n",
    "             \"fig.update_layout(xaxis_tickangle=-45)\\n\"\n",
    "             \"fig.show()\\n\"\n",
    "             \"```\\n\\n\"\n",
    "             \n",
    "             \"**Pattern 2: Grouped Bar Chart**\\n\"\n",
    "             \"```python\\n\"\n",
    "             \"import plotly.express as px\\n\"\n",
    "             \"fig = px.bar(df, x='category', y='value', color='group',\\n\"\n",
    "             \"             title='Title Here', barmode='group')\\n\"\n",
    "             \"fig.show()\\n\"\n",
    "             \"```\\n\\n\"\n",
    "             \n",
    "             \"═══════════════════════════════════════════════════════════\\n\"\n",
    "             \"BEST PRACTICES:\\n\"\n",
    "             \"═══════════════════════════════════════════════════════════\\n\"\n",
    "             \"- Always add meaningful titles and axis labels\\n\"\n",
    "             \"- Use texttemplate to show values on bars/points when appropriate\\n\"\n",
    "             \"- Sort data logically (by value, alphabetically, or naturally)\\n\"\n",
    "             \"- Use appropriate color scales (RdYlGn for good/bad, Blues for intensity)\\n\"\n",
    "             \"- Add hover_data for additional context\\n\"\n",
    "             \"- Format percentages with .2f or .1f\\n\"\n",
    "             \"- Rotate x-axis labels if they're long (xaxis_tickangle=-45)\\n\\n\"\n",
    "             \n",
    "             \"═══════════════════════════════════════════════════════════\\n\"\n",
    "             \"DATA SUMMARY:\\n\"\n",
    "             \"═══════════════════════════════════════════════════════════\\n\"\n",
    "             \"{data_summary}\\n\\n\"\n",
    "             \n",
    "             \"═══════════════════════════════════════════════════════════\\n\"\n",
    "             \"DATA DICTIONARY CONTEXT:\\n\"\n",
    "             \"═══════════════════════════════════════════════════════════\\n\"\n",
    "             \"{data_dictionary}\\n\\n\"\n",
    "             \n",
    "             \"Remember: Return ONLY Python code. No markdown code blocks, no explanations.\\n\"),\n",
    "            (\"user\",\n",
    "             \"Create a Plotly visualization for this data:\\n\\n\"\n",
    "             \"Original Question: {original_question}\\n\\n\"\n",
    "             \"Generate complete, executable Python code that creates the most appropriate visualization.\\n\"\n",
    "             \"The code must create a 'fig' variable and end with 'fig.show()'.\")\n",
    "        ])\n",
    "        \n",
    "        self.chain = self.prompt | self.llm | StrOutputParser()\n",
    "    \n",
    "    def _get_data_summary(self, df: pd.DataFrame) -> str:\n",
    "        \"\"\"\n",
    "        Generate a summary of the DataFrame for the LLM.\n",
    "        \n",
    "        Args:\n",
    "            df: pandas DataFrame\n",
    "            \n",
    "        Returns:\n",
    "            String summary with head, info, and basic stats\n",
    "        \"\"\"\n",
    "        # Capture df.info() output\n",
    "        buffer = StringIO()\n",
    "        df.info(buf=buffer)\n",
    "        info_str = buffer.getvalue()\n",
    "        \n",
    "        # Build summary\n",
    "        summary = f\"\"\"\n",
    "DATAFRAME SHAPE: {df.shape[0]} rows × {df.shape[1]} columns\n",
    "\n",
    "COLUMN NAMES AND TYPES:\n",
    "{info_str}\n",
    "\n",
    "FIRST 5 ROWS:\n",
    "{df.head().to_string()}\n",
    "\n",
    "BASIC STATISTICS:\n",
    "{df.describe().to_string()}\n",
    "\"\"\"\n",
    "        return summary\n",
    "    \n",
    "    def _extract_code(self, text: str) -> str:\n",
    "        \"\"\"Extract Python code from LLM response.\"\"\"\n",
    "        # Try to extract from ```python ... ``` blocks\n",
    "        python_block = re.search(r\"```python\\s*(.*?)```\", text, re.IGNORECASE | re.DOTALL)\n",
    "        if python_block:\n",
    "            return python_block.group(1).strip()\n",
    "        \n",
    "        # Try generic ``` ... ``` blocks\n",
    "        code_block = re.search(r\"```\\s*(.*?)```\", text, re.DOTALL)\n",
    "        if code_block:\n",
    "            return code_block.group(1).strip()\n",
    "        \n",
    "        # Return as-is if no code blocks found\n",
    "        return text.strip()\n",
    "    \n",
    "    def generate_code(self, df: pd.DataFrame, original_question: str = \"\") -> str:\n",
    "        \"\"\"\n",
    "        Generate Plotly visualization code based on DataFrame.\n",
    "        \n",
    "        Args:\n",
    "            df: pandas DataFrame with data to visualize\n",
    "            original_question: The original user question (for context)\n",
    "            \n",
    "        Returns:\n",
    "            Python code string\n",
    "        \"\"\"\n",
    "        data_summary = self._get_data_summary(df)\n",
    "        \n",
    "        response = self.chain.invoke({\n",
    "            \"data_summary\": data_summary,\n",
    "            \"data_dictionary\": DATA_DICTIONARY,\n",
    "            \"original_question\": original_question or \"Visualize this data\"\n",
    "        })\n",
    "        \n",
    "        code = self._extract_code(response)\n",
    "        return code\n",
    "    \n",
    "    def visualize(self, df: pd.DataFrame, original_question: str = \"\", verbose: bool = True):\n",
    "        \"\"\"\n",
    "        Complete pipeline: DataFrame → Generate Code → Execute → Show Plot\n",
    "        \n",
    "        Args:\n",
    "            df: pandas DataFrame with data\n",
    "            original_question: Original user question for context\n",
    "            verbose: If True, print generated code\n",
    "            \n",
    "        Returns:\n",
    "            The Plotly figure object\n",
    "        \"\"\"\n",
    "        try:\n",
    "            # Special handling for single-value DataFrames (1 row, 1 column)\n",
    "            if df.shape[0] == 1 and df.shape[1] == 1:\n",
    "                value = df.iloc[0, 0]\n",
    "                column_name = df.columns[0]\n",
    "                title = column_name.replace('_', ' ').title()\n",
    "                \n",
    "                # Determine if it's a percentage/rate\n",
    "                is_percentage = 'rate' in column_name.lower() or 'percent' in column_name.lower()\n",
    "                \n",
    "                # Create a gauge/indicator chart for single values\n",
    "                code = f\"\"\"import plotly.graph_objects as go\n",
    "\n",
    "value = {value}\n",
    "title_text = \"{title}\"\n",
    "\n",
    "fig = go.Figure(go.Indicator(\n",
    "    mode='number+gauge',\n",
    "    value=value,\n",
    "    title={{'text': title_text, 'font': {{'size': 24}}}},\n",
    "    number={{'suffix': '%' if {is_percentage} else '', 'font': {{'size': 48}}}},\n",
    "    gauge={{\n",
    "        'axis': {{'range': [0, 100]}},\n",
    "        'bar': {{'color': 'darkblue'}},\n",
    "        'steps': [\n",
    "            {{'range': [0, 10], 'color': 'lightgreen'}},\n",
    "            {{'range': [10, 20], 'color': 'lightyellow'}},\n",
    "            {{'range': [20, 100], 'color': 'lightcoral'}}\n",
    "        ],\n",
    "        'threshold': {{\n",
    "            'line': {{'color': 'red', 'width': 4}},\n",
    "            'thickness': 0.75,\n",
    "            'value': value\n",
    "        }}\n",
    "    }}\n",
    "))\n",
    "fig.update_layout(height=400)\n",
    "fig.show()\n",
    "\"\"\"\n",
    "            else:\n",
    "                # Generate code using LLM for multi-row/multi-column data\n",
    "                code = self.generate_code(df, original_question)\n",
    "            \n",
    "            if verbose:\n",
    "                print(\"=\" * 60)\n",
    "                print(\"GENERATED PLOTLY CODE:\")\n",
    "                print(\"=\" * 60)\n",
    "                print(code)\n",
    "                print(\"=\" * 60)\n",
    "                print()\n",
    "            \n",
    "            # Execute code\n",
    "            # Create a namespace with df and necessary imports\n",
    "            namespace = {\n",
    "                'df': df,\n",
    "                'px': px,\n",
    "                'go': go,\n",
    "                'pd': pd\n",
    "            }\n",
    "            \n",
    "            exec(code, namespace)\n",
    "            \n",
    "            # Return the figure (should be stored in 'fig' variable)\n",
    "            if 'fig' in namespace:\n",
    "                if verbose:\n",
    "                    print(\"✅ Visualization generated successfully!\\n\")\n",
    "                return namespace['fig']\n",
    "            else:\n",
    "                raise ValueError(\"Generated code did not create a 'fig' variable\")\n",
    "                \n",
    "        except Exception as e:\n",
    "            print(f\"❌ Error generating visualization: {str(e)}\")\n",
    "            raise\n",
    "\n",
    "print(\"✅ PlotlyVisualizationGenerator class defined\")"
   ]
  },
  {
   "cell_type": "code",
   "execution_count": 48,
   "id": "328ad2d4",
   "metadata": {},
   "outputs": [
    {
     "name": "stdout",
     "output_type": "stream",
     "text": [
      "✅ Plotly Visualization Generator initialized and ready!\n"
     ]
    }
   ],
   "source": [
    "# Initialize the Plotly Visualization Generator\n",
    "viz_generator = PlotlyVisualizationGenerator(llm=llm)\n",
    "\n",
    "print(\"✅ Plotly Visualization Generator initialized and ready!\")"
   ]
  },
  {
   "cell_type": "markdown",
   "id": "743bf106",
   "metadata": {},
   "source": [
    "## 10. Complete Text-to-SQL + Visualization Pipeline\n",
    "\n",
    "Now let's create a complete function that:\n",
    "1. Takes a natural language question\n",
    "2. Generates and executes SQL query\n",
    "3. Automatically creates an appropriate visualization"
   ]
  },
  {
   "cell_type": "code",
   "execution_count": 41,
   "id": "a8524ec9",
   "metadata": {},
   "outputs": [
    {
     "name": "stdout",
     "output_type": "stream",
     "text": [
      "✅ Complete pipeline function 'query_and_visualize()' ready!\n"
     ]
    }
   ],
   "source": [
    "def query_and_visualize(question: str, verbose: bool = True):\n",
    "    \"\"\"\n",
    "    Complete pipeline: Natural Language → SQL → DataFrame → Visualization\n",
    "    \n",
    "    Args:\n",
    "        question: Natural language question about HR data\n",
    "        verbose: If True, print SQL and generated code\n",
    "        \n",
    "    Returns:\n",
    "        tuple: (DataFrame, Plotly Figure)\n",
    "    \"\"\"\n",
    "    print(\"🔍 Processing question:\", question)\n",
    "    print()\n",
    "    \n",
    "    # Step 1: Generate SQL and get DataFrame\n",
    "    df = agent.query(question, verbose=verbose)\n",
    "    \n",
    "    print(f\"📊 Retrieved {len(df)} rows with {len(df.columns)} columns\")\n",
    "    print()\n",
    "    \n",
    "    # Step 2: Generate and display visualization\n",
    "    fig = viz_generator.visualize(df, original_question=question, verbose=verbose)\n",
    "    \n",
    "    return df, fig\n",
    "\n",
    "print(\"✅ Complete pipeline function 'query_and_visualize()' ready!\")"
   ]
  },
  {
   "cell_type": "markdown",
   "id": "5403ca97",
   "metadata": {},
   "source": [
    "## 11. Test the Complete Pipeline\n",
    "\n",
    "Let's test with various questions to see automatic visualizations:"
   ]
  },
  {
   "cell_type": "code",
   "execution_count": 52,
   "id": "89da40f8",
   "metadata": {},
   "outputs": [
    {
     "name": "stdout",
     "output_type": "stream",
     "text": [
      "🔍 Processing question: What is the attrition rate of male and female employees?\n",
      "\n",
      "============================================================\n",
      "GENERATED SQL:\n",
      "============================================================\n",
      "SELECT\n",
      "    gender,\n",
      "    COUNT(*) as total_employees,\n",
      "    COUNT(CASE WHEN attrition = 'Yes' THEN 1 END) as left,\n",
      "    ROUND((COUNT(CASE WHEN attrition = 'Yes' THEN 1 END)::numeric / COUNT(*)::numeric) * 100, 2) as attrition_rate\n",
      "FROM employee_attrition\n",
      "GROUP BY gender\n",
      "ORDER BY gender\n",
      "============================================================\n",
      "\n",
      "✅ Query executed successfully. Returned 2 rows.\n",
      "\n",
      "📊 Retrieved 2 rows with 4 columns\n",
      "\n",
      "============================================================\n",
      "GENERATED SQL:\n",
      "============================================================\n",
      "SELECT\n",
      "    gender,\n",
      "    COUNT(*) as total_employees,\n",
      "    COUNT(CASE WHEN attrition = 'Yes' THEN 1 END) as left,\n",
      "    ROUND((COUNT(CASE WHEN attrition = 'Yes' THEN 1 END)::numeric / COUNT(*)::numeric) * 100, 2) as attrition_rate\n",
      "FROM employee_attrition\n",
      "GROUP BY gender\n",
      "ORDER BY gender\n",
      "============================================================\n",
      "\n",
      "✅ Query executed successfully. Returned 2 rows.\n",
      "\n",
      "📊 Retrieved 2 rows with 4 columns\n",
      "\n",
      "============================================================\n",
      "GENERATED PLOTLY CODE:\n",
      "============================================================\n",
      "import plotly.express as px\n",
      "\n",
      "# Create a grouped bar chart for attrition rate by gender\n",
      "fig = px.bar(df, x='gender', y='attrition_rate', \n",
      "             title='Attrition Rate by Gender',\n",
      "             labels={'gender': 'Gender', 'attrition_rate': 'Attrition Rate (%)'},\n",
      "             color='gender')\n",
      "\n",
      "# Rotate x-axis labels for better readability\n",
      "fig.update_layout(xaxis_tickangle=-45)\n",
      "\n",
      "# Show the plot\n",
      "fig.show()\n",
      "============================================================\n",
      "\n",
      "============================================================\n",
      "GENERATED PLOTLY CODE:\n",
      "============================================================\n",
      "import plotly.express as px\n",
      "\n",
      "# Create a grouped bar chart for attrition rate by gender\n",
      "fig = px.bar(df, x='gender', y='attrition_rate', \n",
      "             title='Attrition Rate by Gender',\n",
      "             labels={'gender': 'Gender', 'attrition_rate': 'Attrition Rate (%)'},\n",
      "             color='gender')\n",
      "\n",
      "# Rotate x-axis labels for better readability\n",
      "fig.update_layout(xaxis_tickangle=-45)\n",
      "\n",
      "# Show the plot\n",
      "fig.show()\n",
      "============================================================\n",
      "\n"
     ]
    },
    {
     "data": {
      "application/vnd.plotly.v1+json": {
       "config": {
        "plotlyServerURL": "https://plot.ly"
       },
       "data": [
        {
         "hovertemplate": "Gender=%{x}<br>Attrition Rate (%)=%{y}<extra></extra>",
         "legendgroup": "Female",
         "marker": {
          "color": "#636efa",
          "pattern": {
           "shape": ""
          }
         },
         "name": "Female",
         "orientation": "v",
         "showlegend": true,
         "textposition": "auto",
         "type": "bar",
         "x": [
          "Female"
         ],
         "xaxis": "x",
         "y": {
          "bdata": "mpmZmZmZLUA=",
          "dtype": "f8"
         },
         "yaxis": "y"
        },
        {
         "hovertemplate": "Gender=%{x}<br>Attrition Rate (%)=%{y}<extra></extra>",
         "legendgroup": "Male",
         "marker": {
          "color": "#EF553B",
          "pattern": {
           "shape": ""
          }
         },
         "name": "Male",
         "orientation": "v",
         "showlegend": true,
         "textposition": "auto",
         "type": "bar",
         "x": [
          "Male"
         ],
         "xaxis": "x",
         "y": {
          "bdata": "w/UoXI8CMUA=",
          "dtype": "f8"
         },
         "yaxis": "y"
        }
       ],
       "layout": {
        "barmode": "relative",
        "legend": {
         "title": {
          "text": "Gender"
         },
         "tracegroupgap": 0
        },
        "template": {
         "data": {
          "bar": [
           {
            "error_x": {
             "color": "#2a3f5f"
            },
            "error_y": {
             "color": "#2a3f5f"
            },
            "marker": {
             "line": {
              "color": "#E5ECF6",
              "width": 0.5
             },
             "pattern": {
              "fillmode": "overlay",
              "size": 10,
              "solidity": 0.2
             }
            },
            "type": "bar"
           }
          ],
          "barpolar": [
           {
            "marker": {
             "line": {
              "color": "#E5ECF6",
              "width": 0.5
             },
             "pattern": {
              "fillmode": "overlay",
              "size": 10,
              "solidity": 0.2
             }
            },
            "type": "barpolar"
           }
          ],
          "carpet": [
           {
            "aaxis": {
             "endlinecolor": "#2a3f5f",
             "gridcolor": "white",
             "linecolor": "white",
             "minorgridcolor": "white",
             "startlinecolor": "#2a3f5f"
            },
            "baxis": {
             "endlinecolor": "#2a3f5f",
             "gridcolor": "white",
             "linecolor": "white",
             "minorgridcolor": "white",
             "startlinecolor": "#2a3f5f"
            },
            "type": "carpet"
           }
          ],
          "choropleth": [
           {
            "colorbar": {
             "outlinewidth": 0,
             "ticks": ""
            },
            "type": "choropleth"
           }
          ],
          "contour": [
           {
            "colorbar": {
             "outlinewidth": 0,
             "ticks": ""
            },
            "colorscale": [
             [
              0,
              "#0d0887"
             ],
             [
              0.1111111111111111,
              "#46039f"
             ],
             [
              0.2222222222222222,
              "#7201a8"
             ],
             [
              0.3333333333333333,
              "#9c179e"
             ],
             [
              0.4444444444444444,
              "#bd3786"
             ],
             [
              0.5555555555555556,
              "#d8576b"
             ],
             [
              0.6666666666666666,
              "#ed7953"
             ],
             [
              0.7777777777777778,
              "#fb9f3a"
             ],
             [
              0.8888888888888888,
              "#fdca26"
             ],
             [
              1,
              "#f0f921"
             ]
            ],
            "type": "contour"
           }
          ],
          "contourcarpet": [
           {
            "colorbar": {
             "outlinewidth": 0,
             "ticks": ""
            },
            "type": "contourcarpet"
           }
          ],
          "heatmap": [
           {
            "colorbar": {
             "outlinewidth": 0,
             "ticks": ""
            },
            "colorscale": [
             [
              0,
              "#0d0887"
             ],
             [
              0.1111111111111111,
              "#46039f"
             ],
             [
              0.2222222222222222,
              "#7201a8"
             ],
             [
              0.3333333333333333,
              "#9c179e"
             ],
             [
              0.4444444444444444,
              "#bd3786"
             ],
             [
              0.5555555555555556,
              "#d8576b"
             ],
             [
              0.6666666666666666,
              "#ed7953"
             ],
             [
              0.7777777777777778,
              "#fb9f3a"
             ],
             [
              0.8888888888888888,
              "#fdca26"
             ],
             [
              1,
              "#f0f921"
             ]
            ],
            "type": "heatmap"
           }
          ],
          "histogram": [
           {
            "marker": {
             "pattern": {
              "fillmode": "overlay",
              "size": 10,
              "solidity": 0.2
             }
            },
            "type": "histogram"
           }
          ],
          "histogram2d": [
           {
            "colorbar": {
             "outlinewidth": 0,
             "ticks": ""
            },
            "colorscale": [
             [
              0,
              "#0d0887"
             ],
             [
              0.1111111111111111,
              "#46039f"
             ],
             [
              0.2222222222222222,
              "#7201a8"
             ],
             [
              0.3333333333333333,
              "#9c179e"
             ],
             [
              0.4444444444444444,
              "#bd3786"
             ],
             [
              0.5555555555555556,
              "#d8576b"
             ],
             [
              0.6666666666666666,
              "#ed7953"
             ],
             [
              0.7777777777777778,
              "#fb9f3a"
             ],
             [
              0.8888888888888888,
              "#fdca26"
             ],
             [
              1,
              "#f0f921"
             ]
            ],
            "type": "histogram2d"
           }
          ],
          "histogram2dcontour": [
           {
            "colorbar": {
             "outlinewidth": 0,
             "ticks": ""
            },
            "colorscale": [
             [
              0,
              "#0d0887"
             ],
             [
              0.1111111111111111,
              "#46039f"
             ],
             [
              0.2222222222222222,
              "#7201a8"
             ],
             [
              0.3333333333333333,
              "#9c179e"
             ],
             [
              0.4444444444444444,
              "#bd3786"
             ],
             [
              0.5555555555555556,
              "#d8576b"
             ],
             [
              0.6666666666666666,
              "#ed7953"
             ],
             [
              0.7777777777777778,
              "#fb9f3a"
             ],
             [
              0.8888888888888888,
              "#fdca26"
             ],
             [
              1,
              "#f0f921"
             ]
            ],
            "type": "histogram2dcontour"
           }
          ],
          "mesh3d": [
           {
            "colorbar": {
             "outlinewidth": 0,
             "ticks": ""
            },
            "type": "mesh3d"
           }
          ],
          "parcoords": [
           {
            "line": {
             "colorbar": {
              "outlinewidth": 0,
              "ticks": ""
             }
            },
            "type": "parcoords"
           }
          ],
          "pie": [
           {
            "automargin": true,
            "type": "pie"
           }
          ],
          "scatter": [
           {
            "fillpattern": {
             "fillmode": "overlay",
             "size": 10,
             "solidity": 0.2
            },
            "type": "scatter"
           }
          ],
          "scatter3d": [
           {
            "line": {
             "colorbar": {
              "outlinewidth": 0,
              "ticks": ""
             }
            },
            "marker": {
             "colorbar": {
              "outlinewidth": 0,
              "ticks": ""
             }
            },
            "type": "scatter3d"
           }
          ],
          "scattercarpet": [
           {
            "marker": {
             "colorbar": {
              "outlinewidth": 0,
              "ticks": ""
             }
            },
            "type": "scattercarpet"
           }
          ],
          "scattergeo": [
           {
            "marker": {
             "colorbar": {
              "outlinewidth": 0,
              "ticks": ""
             }
            },
            "type": "scattergeo"
           }
          ],
          "scattergl": [
           {
            "marker": {
             "colorbar": {
              "outlinewidth": 0,
              "ticks": ""
             }
            },
            "type": "scattergl"
           }
          ],
          "scattermap": [
           {
            "marker": {
             "colorbar": {
              "outlinewidth": 0,
              "ticks": ""
             }
            },
            "type": "scattermap"
           }
          ],
          "scattermapbox": [
           {
            "marker": {
             "colorbar": {
              "outlinewidth": 0,
              "ticks": ""
             }
            },
            "type": "scattermapbox"
           }
          ],
          "scatterpolar": [
           {
            "marker": {
             "colorbar": {
              "outlinewidth": 0,
              "ticks": ""
             }
            },
            "type": "scatterpolar"
           }
          ],
          "scatterpolargl": [
           {
            "marker": {
             "colorbar": {
              "outlinewidth": 0,
              "ticks": ""
             }
            },
            "type": "scatterpolargl"
           }
          ],
          "scatterternary": [
           {
            "marker": {
             "colorbar": {
              "outlinewidth": 0,
              "ticks": ""
             }
            },
            "type": "scatterternary"
           }
          ],
          "surface": [
           {
            "colorbar": {
             "outlinewidth": 0,
             "ticks": ""
            },
            "colorscale": [
             [
              0,
              "#0d0887"
             ],
             [
              0.1111111111111111,
              "#46039f"
             ],
             [
              0.2222222222222222,
              "#7201a8"
             ],
             [
              0.3333333333333333,
              "#9c179e"
             ],
             [
              0.4444444444444444,
              "#bd3786"
             ],
             [
              0.5555555555555556,
              "#d8576b"
             ],
             [
              0.6666666666666666,
              "#ed7953"
             ],
             [
              0.7777777777777778,
              "#fb9f3a"
             ],
             [
              0.8888888888888888,
              "#fdca26"
             ],
             [
              1,
              "#f0f921"
             ]
            ],
            "type": "surface"
           }
          ],
          "table": [
           {
            "cells": {
             "fill": {
              "color": "#EBF0F8"
             },
             "line": {
              "color": "white"
             }
            },
            "header": {
             "fill": {
              "color": "#C8D4E3"
             },
             "line": {
              "color": "white"
             }
            },
            "type": "table"
           }
          ]
         },
         "layout": {
          "annotationdefaults": {
           "arrowcolor": "#2a3f5f",
           "arrowhead": 0,
           "arrowwidth": 1
          },
          "autotypenumbers": "strict",
          "coloraxis": {
           "colorbar": {
            "outlinewidth": 0,
            "ticks": ""
           }
          },
          "colorscale": {
           "diverging": [
            [
             0,
             "#8e0152"
            ],
            [
             0.1,
             "#c51b7d"
            ],
            [
             0.2,
             "#de77ae"
            ],
            [
             0.3,
             "#f1b6da"
            ],
            [
             0.4,
             "#fde0ef"
            ],
            [
             0.5,
             "#f7f7f7"
            ],
            [
             0.6,
             "#e6f5d0"
            ],
            [
             0.7,
             "#b8e186"
            ],
            [
             0.8,
             "#7fbc41"
            ],
            [
             0.9,
             "#4d9221"
            ],
            [
             1,
             "#276419"
            ]
           ],
           "sequential": [
            [
             0,
             "#0d0887"
            ],
            [
             0.1111111111111111,
             "#46039f"
            ],
            [
             0.2222222222222222,
             "#7201a8"
            ],
            [
             0.3333333333333333,
             "#9c179e"
            ],
            [
             0.4444444444444444,
             "#bd3786"
            ],
            [
             0.5555555555555556,
             "#d8576b"
            ],
            [
             0.6666666666666666,
             "#ed7953"
            ],
            [
             0.7777777777777778,
             "#fb9f3a"
            ],
            [
             0.8888888888888888,
             "#fdca26"
            ],
            [
             1,
             "#f0f921"
            ]
           ],
           "sequentialminus": [
            [
             0,
             "#0d0887"
            ],
            [
             0.1111111111111111,
             "#46039f"
            ],
            [
             0.2222222222222222,
             "#7201a8"
            ],
            [
             0.3333333333333333,
             "#9c179e"
            ],
            [
             0.4444444444444444,
             "#bd3786"
            ],
            [
             0.5555555555555556,
             "#d8576b"
            ],
            [
             0.6666666666666666,
             "#ed7953"
            ],
            [
             0.7777777777777778,
             "#fb9f3a"
            ],
            [
             0.8888888888888888,
             "#fdca26"
            ],
            [
             1,
             "#f0f921"
            ]
           ]
          },
          "colorway": [
           "#636efa",
           "#EF553B",
           "#00cc96",
           "#ab63fa",
           "#FFA15A",
           "#19d3f3",
           "#FF6692",
           "#B6E880",
           "#FF97FF",
           "#FECB52"
          ],
          "font": {
           "color": "#2a3f5f"
          },
          "geo": {
           "bgcolor": "white",
           "lakecolor": "white",
           "landcolor": "#E5ECF6",
           "showlakes": true,
           "showland": true,
           "subunitcolor": "white"
          },
          "hoverlabel": {
           "align": "left"
          },
          "hovermode": "closest",
          "mapbox": {
           "style": "light"
          },
          "paper_bgcolor": "white",
          "plot_bgcolor": "#E5ECF6",
          "polar": {
           "angularaxis": {
            "gridcolor": "white",
            "linecolor": "white",
            "ticks": ""
           },
           "bgcolor": "#E5ECF6",
           "radialaxis": {
            "gridcolor": "white",
            "linecolor": "white",
            "ticks": ""
           }
          },
          "scene": {
           "xaxis": {
            "backgroundcolor": "#E5ECF6",
            "gridcolor": "white",
            "gridwidth": 2,
            "linecolor": "white",
            "showbackground": true,
            "ticks": "",
            "zerolinecolor": "white"
           },
           "yaxis": {
            "backgroundcolor": "#E5ECF6",
            "gridcolor": "white",
            "gridwidth": 2,
            "linecolor": "white",
            "showbackground": true,
            "ticks": "",
            "zerolinecolor": "white"
           },
           "zaxis": {
            "backgroundcolor": "#E5ECF6",
            "gridcolor": "white",
            "gridwidth": 2,
            "linecolor": "white",
            "showbackground": true,
            "ticks": "",
            "zerolinecolor": "white"
           }
          },
          "shapedefaults": {
           "line": {
            "color": "#2a3f5f"
           }
          },
          "ternary": {
           "aaxis": {
            "gridcolor": "white",
            "linecolor": "white",
            "ticks": ""
           },
           "baxis": {
            "gridcolor": "white",
            "linecolor": "white",
            "ticks": ""
           },
           "bgcolor": "#E5ECF6",
           "caxis": {
            "gridcolor": "white",
            "linecolor": "white",
            "ticks": ""
           }
          },
          "title": {
           "x": 0.05
          },
          "xaxis": {
           "automargin": true,
           "gridcolor": "white",
           "linecolor": "white",
           "ticks": "",
           "title": {
            "standoff": 15
           },
           "zerolinecolor": "white",
           "zerolinewidth": 2
          },
          "yaxis": {
           "automargin": true,
           "gridcolor": "white",
           "linecolor": "white",
           "ticks": "",
           "title": {
            "standoff": 15
           },
           "zerolinecolor": "white",
           "zerolinewidth": 2
          }
         }
        },
        "title": {
         "text": "Attrition Rate by Gender"
        },
        "xaxis": {
         "anchor": "y",
         "categoryarray": [
          "Female",
          "Male"
         ],
         "categoryorder": "array",
         "domain": [
          0,
          1
         ],
         "tickangle": -45,
         "title": {
          "text": "Gender"
         }
        },
        "yaxis": {
         "anchor": "x",
         "domain": [
          0,
          1
         ],
         "title": {
          "text": "Attrition Rate (%)"
         }
        }
       }
      }
     },
     "metadata": {},
     "output_type": "display_data"
    },
    {
     "name": "stdout",
     "output_type": "stream",
     "text": [
      "✅ Visualization generated successfully!\n",
      "\n"
     ]
    }
   ],
   "source": [
    "# Example 1: Department-wise attrition rate\n",
    "df1, fig1 = query_and_visualize(\"What is the attrition rate of male and female employees?\")"
   ]
  },
  {
   "cell_type": "code",
   "execution_count": 44,
   "id": "60e4776c",
   "metadata": {},
   "outputs": [
    {
     "name": "stdout",
     "output_type": "stream",
     "text": [
      "🔍 Processing question: How does job satisfaction impact attrition?\n",
      "\n",
      "============================================================\n",
      "GENERATED SQL:\n",
      "============================================================\n",
      "SELECT\n",
      "    jobsatisfaction,\n",
      "    COUNT(*) as total_employees,\n",
      "    COUNT(CASE WHEN attrition='Yes' THEN 1 END) as employees_left,\n",
      "    ROUND((COUNT(CASE WHEN attrition='Yes' THEN 1 END)::numeric / COUNT(*)::numeric) * 100, 2) as attrition_rate\n",
      "FROM employee_attrition\n",
      "GROUP BY jobsatisfaction\n",
      "ORDER BY jobsatisfaction\n",
      "============================================================\n",
      "\n",
      "✅ Query executed successfully. Returned 4 rows.\n",
      "\n",
      "📊 Retrieved 4 rows with 4 columns\n",
      "\n",
      "============================================================\n",
      "GENERATED SQL:\n",
      "============================================================\n",
      "SELECT\n",
      "    jobsatisfaction,\n",
      "    COUNT(*) as total_employees,\n",
      "    COUNT(CASE WHEN attrition='Yes' THEN 1 END) as employees_left,\n",
      "    ROUND((COUNT(CASE WHEN attrition='Yes' THEN 1 END)::numeric / COUNT(*)::numeric) * 100, 2) as attrition_rate\n",
      "FROM employee_attrition\n",
      "GROUP BY jobsatisfaction\n",
      "ORDER BY jobsatisfaction\n",
      "============================================================\n",
      "\n",
      "✅ Query executed successfully. Returned 4 rows.\n",
      "\n",
      "📊 Retrieved 4 rows with 4 columns\n",
      "\n",
      "============================================================\n",
      "GENERATED PLOTLY CODE:\n",
      "============================================================\n",
      "import plotly.express as px\n",
      "\n",
      "# Create scatter plot with jobsatisfaction on x-axis and attrition_rate on y-axis\n",
      "fig = px.scatter(df, x='jobsatisfaction', y='attrition_rate',\n",
      "                 title='Impact of Job Satisfaction on Attrition Rate',\n",
      "                 labels={'jobsatisfaction': 'Job Satisfaction Level', 'attrition_rate': 'Attrition Rate (%)'},\n",
      "                 color='total_employees',\n",
      "                 trendline='ols',\n",
      "                 marginal_y='violin')\n",
      "\n",
      "# Customize layout\n",
      "fig.update_layout(xaxis_title='Job Satisfaction Level',\n",
      "                  yaxis_title='Attrition Rate (%)',\n",
      "                  xaxis_tickangle=-45)\n",
      "\n",
      "# Show the plot\n",
      "fig.show()\n",
      "============================================================\n",
      "\n",
      "============================================================\n",
      "GENERATED PLOTLY CODE:\n",
      "============================================================\n",
      "import plotly.express as px\n",
      "\n",
      "# Create scatter plot with jobsatisfaction on x-axis and attrition_rate on y-axis\n",
      "fig = px.scatter(df, x='jobsatisfaction', y='attrition_rate',\n",
      "                 title='Impact of Job Satisfaction on Attrition Rate',\n",
      "                 labels={'jobsatisfaction': 'Job Satisfaction Level', 'attrition_rate': 'Attrition Rate (%)'},\n",
      "                 color='total_employees',\n",
      "                 trendline='ols',\n",
      "                 marginal_y='violin')\n",
      "\n",
      "# Customize layout\n",
      "fig.update_layout(xaxis_title='Job Satisfaction Level',\n",
      "                  yaxis_title='Attrition Rate (%)',\n",
      "                  xaxis_tickangle=-45)\n",
      "\n",
      "# Show the plot\n",
      "fig.show()\n",
      "============================================================\n",
      "\n"
     ]
    },
    {
     "data": {
      "application/vnd.plotly.v1+json": {
       "config": {
        "plotlyServerURL": "https://plot.ly"
       },
       "data": [
        {
         "hovertemplate": "Job Satisfaction Level=%{x}<br>Attrition Rate (%)=%{y}<br>total_employees=%{marker.color}<extra></extra>",
         "legendgroup": "",
         "marker": {
          "color": {
           "bdata": "IQEYAboBywE=",
           "dtype": "i2"
          },
          "coloraxis": "coloraxis",
          "symbol": "circle"
         },
         "mode": "markers",
         "name": "",
         "orientation": "v",
         "showlegend": false,
         "type": "scatter",
         "x": {
          "bdata": "AQIDBA==",
          "dtype": "i1"
         },
         "xaxis": "x",
         "y": {
          "bdata": "16NwPQrXNkCuR+F6FG4wQIXrUbgehTBAKVyPwvWoJkA=",
          "dtype": "f8"
         },
         "yaxis": "y"
        },
        {
         "alignmentgroup": "True",
         "hovertemplate": "Attrition Rate (%)=%{y}<extra></extra>",
         "legendgroup": "",
         "marker": {
          "color": "#0d0887",
          "symbol": "circle"
         },
         "name": "",
         "offsetgroup": "",
         "scalegroup": "y",
         "showlegend": false,
         "type": "violin",
         "xaxis": "x2",
         "y": {
          "bdata": "16NwPQrXNkCuR+F6FG4wQIXrUbgehTBAKVyPwvWoJkA=",
          "dtype": "f8"
         },
         "yaxis": "y2"
        },
        {
         "hovertemplate": "<b>OLS trendline</b><br>attrition_rate = -3.444 * jobsatisfaction + 25.39<br>R<sup>2</sup>=0.890259<br><br>Job Satisfaction Level=%{x}<br>Attrition Rate (%)=%{y} <b>(trend)</b><extra></extra>",
         "legendgroup": "",
         "marker": {
          "symbol": "circle"
         },
         "mode": "lines",
         "name": "",
         "showlegend": false,
         "type": "scatter",
         "x": {
          "bdata": "AQIDBA==",
          "dtype": "i1"
         },
         "xaxis": "x",
         "y": {
          "bdata": "GQRWDi3yNUCOl24Sg4AyQARWDi2yHS5A7nw/NV46J0A=",
          "dtype": "f8"
         },
         "yaxis": "y"
        }
       ],
       "layout": {
        "coloraxis": {
         "colorbar": {
          "title": {
           "text": "total_employees"
          }
         },
         "colorscale": [
          [
           0,
           "#0d0887"
          ],
          [
           0.1111111111111111,
           "#46039f"
          ],
          [
           0.2222222222222222,
           "#7201a8"
          ],
          [
           0.3333333333333333,
           "#9c179e"
          ],
          [
           0.4444444444444444,
           "#bd3786"
          ],
          [
           0.5555555555555556,
           "#d8576b"
          ],
          [
           0.6666666666666666,
           "#ed7953"
          ],
          [
           0.7777777777777778,
           "#fb9f3a"
          ],
          [
           0.8888888888888888,
           "#fdca26"
          ],
          [
           1,
           "#f0f921"
          ]
         ]
        },
        "legend": {
         "tracegroupgap": 0
        },
        "template": {
         "data": {
          "bar": [
           {
            "error_x": {
             "color": "#2a3f5f"
            },
            "error_y": {
             "color": "#2a3f5f"
            },
            "marker": {
             "line": {
              "color": "#E5ECF6",
              "width": 0.5
             },
             "pattern": {
              "fillmode": "overlay",
              "size": 10,
              "solidity": 0.2
             }
            },
            "type": "bar"
           }
          ],
          "barpolar": [
           {
            "marker": {
             "line": {
              "color": "#E5ECF6",
              "width": 0.5
             },
             "pattern": {
              "fillmode": "overlay",
              "size": 10,
              "solidity": 0.2
             }
            },
            "type": "barpolar"
           }
          ],
          "carpet": [
           {
            "aaxis": {
             "endlinecolor": "#2a3f5f",
             "gridcolor": "white",
             "linecolor": "white",
             "minorgridcolor": "white",
             "startlinecolor": "#2a3f5f"
            },
            "baxis": {
             "endlinecolor": "#2a3f5f",
             "gridcolor": "white",
             "linecolor": "white",
             "minorgridcolor": "white",
             "startlinecolor": "#2a3f5f"
            },
            "type": "carpet"
           }
          ],
          "choropleth": [
           {
            "colorbar": {
             "outlinewidth": 0,
             "ticks": ""
            },
            "type": "choropleth"
           }
          ],
          "contour": [
           {
            "colorbar": {
             "outlinewidth": 0,
             "ticks": ""
            },
            "colorscale": [
             [
              0,
              "#0d0887"
             ],
             [
              0.1111111111111111,
              "#46039f"
             ],
             [
              0.2222222222222222,
              "#7201a8"
             ],
             [
              0.3333333333333333,
              "#9c179e"
             ],
             [
              0.4444444444444444,
              "#bd3786"
             ],
             [
              0.5555555555555556,
              "#d8576b"
             ],
             [
              0.6666666666666666,
              "#ed7953"
             ],
             [
              0.7777777777777778,
              "#fb9f3a"
             ],
             [
              0.8888888888888888,
              "#fdca26"
             ],
             [
              1,
              "#f0f921"
             ]
            ],
            "type": "contour"
           }
          ],
          "contourcarpet": [
           {
            "colorbar": {
             "outlinewidth": 0,
             "ticks": ""
            },
            "type": "contourcarpet"
           }
          ],
          "heatmap": [
           {
            "colorbar": {
             "outlinewidth": 0,
             "ticks": ""
            },
            "colorscale": [
             [
              0,
              "#0d0887"
             ],
             [
              0.1111111111111111,
              "#46039f"
             ],
             [
              0.2222222222222222,
              "#7201a8"
             ],
             [
              0.3333333333333333,
              "#9c179e"
             ],
             [
              0.4444444444444444,
              "#bd3786"
             ],
             [
              0.5555555555555556,
              "#d8576b"
             ],
             [
              0.6666666666666666,
              "#ed7953"
             ],
             [
              0.7777777777777778,
              "#fb9f3a"
             ],
             [
              0.8888888888888888,
              "#fdca26"
             ],
             [
              1,
              "#f0f921"
             ]
            ],
            "type": "heatmap"
           }
          ],
          "histogram": [
           {
            "marker": {
             "pattern": {
              "fillmode": "overlay",
              "size": 10,
              "solidity": 0.2
             }
            },
            "type": "histogram"
           }
          ],
          "histogram2d": [
           {
            "colorbar": {
             "outlinewidth": 0,
             "ticks": ""
            },
            "colorscale": [
             [
              0,
              "#0d0887"
             ],
             [
              0.1111111111111111,
              "#46039f"
             ],
             [
              0.2222222222222222,
              "#7201a8"
             ],
             [
              0.3333333333333333,
              "#9c179e"
             ],
             [
              0.4444444444444444,
              "#bd3786"
             ],
             [
              0.5555555555555556,
              "#d8576b"
             ],
             [
              0.6666666666666666,
              "#ed7953"
             ],
             [
              0.7777777777777778,
              "#fb9f3a"
             ],
             [
              0.8888888888888888,
              "#fdca26"
             ],
             [
              1,
              "#f0f921"
             ]
            ],
            "type": "histogram2d"
           }
          ],
          "histogram2dcontour": [
           {
            "colorbar": {
             "outlinewidth": 0,
             "ticks": ""
            },
            "colorscale": [
             [
              0,
              "#0d0887"
             ],
             [
              0.1111111111111111,
              "#46039f"
             ],
             [
              0.2222222222222222,
              "#7201a8"
             ],
             [
              0.3333333333333333,
              "#9c179e"
             ],
             [
              0.4444444444444444,
              "#bd3786"
             ],
             [
              0.5555555555555556,
              "#d8576b"
             ],
             [
              0.6666666666666666,
              "#ed7953"
             ],
             [
              0.7777777777777778,
              "#fb9f3a"
             ],
             [
              0.8888888888888888,
              "#fdca26"
             ],
             [
              1,
              "#f0f921"
             ]
            ],
            "type": "histogram2dcontour"
           }
          ],
          "mesh3d": [
           {
            "colorbar": {
             "outlinewidth": 0,
             "ticks": ""
            },
            "type": "mesh3d"
           }
          ],
          "parcoords": [
           {
            "line": {
             "colorbar": {
              "outlinewidth": 0,
              "ticks": ""
             }
            },
            "type": "parcoords"
           }
          ],
          "pie": [
           {
            "automargin": true,
            "type": "pie"
           }
          ],
          "scatter": [
           {
            "fillpattern": {
             "fillmode": "overlay",
             "size": 10,
             "solidity": 0.2
            },
            "type": "scatter"
           }
          ],
          "scatter3d": [
           {
            "line": {
             "colorbar": {
              "outlinewidth": 0,
              "ticks": ""
             }
            },
            "marker": {
             "colorbar": {
              "outlinewidth": 0,
              "ticks": ""
             }
            },
            "type": "scatter3d"
           }
          ],
          "scattercarpet": [
           {
            "marker": {
             "colorbar": {
              "outlinewidth": 0,
              "ticks": ""
             }
            },
            "type": "scattercarpet"
           }
          ],
          "scattergeo": [
           {
            "marker": {
             "colorbar": {
              "outlinewidth": 0,
              "ticks": ""
             }
            },
            "type": "scattergeo"
           }
          ],
          "scattergl": [
           {
            "marker": {
             "colorbar": {
              "outlinewidth": 0,
              "ticks": ""
             }
            },
            "type": "scattergl"
           }
          ],
          "scattermap": [
           {
            "marker": {
             "colorbar": {
              "outlinewidth": 0,
              "ticks": ""
             }
            },
            "type": "scattermap"
           }
          ],
          "scattermapbox": [
           {
            "marker": {
             "colorbar": {
              "outlinewidth": 0,
              "ticks": ""
             }
            },
            "type": "scattermapbox"
           }
          ],
          "scatterpolar": [
           {
            "marker": {
             "colorbar": {
              "outlinewidth": 0,
              "ticks": ""
             }
            },
            "type": "scatterpolar"
           }
          ],
          "scatterpolargl": [
           {
            "marker": {
             "colorbar": {
              "outlinewidth": 0,
              "ticks": ""
             }
            },
            "type": "scatterpolargl"
           }
          ],
          "scatterternary": [
           {
            "marker": {
             "colorbar": {
              "outlinewidth": 0,
              "ticks": ""
             }
            },
            "type": "scatterternary"
           }
          ],
          "surface": [
           {
            "colorbar": {
             "outlinewidth": 0,
             "ticks": ""
            },
            "colorscale": [
             [
              0,
              "#0d0887"
             ],
             [
              0.1111111111111111,
              "#46039f"
             ],
             [
              0.2222222222222222,
              "#7201a8"
             ],
             [
              0.3333333333333333,
              "#9c179e"
             ],
             [
              0.4444444444444444,
              "#bd3786"
             ],
             [
              0.5555555555555556,
              "#d8576b"
             ],
             [
              0.6666666666666666,
              "#ed7953"
             ],
             [
              0.7777777777777778,
              "#fb9f3a"
             ],
             [
              0.8888888888888888,
              "#fdca26"
             ],
             [
              1,
              "#f0f921"
             ]
            ],
            "type": "surface"
           }
          ],
          "table": [
           {
            "cells": {
             "fill": {
              "color": "#EBF0F8"
             },
             "line": {
              "color": "white"
             }
            },
            "header": {
             "fill": {
              "color": "#C8D4E3"
             },
             "line": {
              "color": "white"
             }
            },
            "type": "table"
           }
          ]
         },
         "layout": {
          "annotationdefaults": {
           "arrowcolor": "#2a3f5f",
           "arrowhead": 0,
           "arrowwidth": 1
          },
          "autotypenumbers": "strict",
          "coloraxis": {
           "colorbar": {
            "outlinewidth": 0,
            "ticks": ""
           }
          },
          "colorscale": {
           "diverging": [
            [
             0,
             "#8e0152"
            ],
            [
             0.1,
             "#c51b7d"
            ],
            [
             0.2,
             "#de77ae"
            ],
            [
             0.3,
             "#f1b6da"
            ],
            [
             0.4,
             "#fde0ef"
            ],
            [
             0.5,
             "#f7f7f7"
            ],
            [
             0.6,
             "#e6f5d0"
            ],
            [
             0.7,
             "#b8e186"
            ],
            [
             0.8,
             "#7fbc41"
            ],
            [
             0.9,
             "#4d9221"
            ],
            [
             1,
             "#276419"
            ]
           ],
           "sequential": [
            [
             0,
             "#0d0887"
            ],
            [
             0.1111111111111111,
             "#46039f"
            ],
            [
             0.2222222222222222,
             "#7201a8"
            ],
            [
             0.3333333333333333,
             "#9c179e"
            ],
            [
             0.4444444444444444,
             "#bd3786"
            ],
            [
             0.5555555555555556,
             "#d8576b"
            ],
            [
             0.6666666666666666,
             "#ed7953"
            ],
            [
             0.7777777777777778,
             "#fb9f3a"
            ],
            [
             0.8888888888888888,
             "#fdca26"
            ],
            [
             1,
             "#f0f921"
            ]
           ],
           "sequentialminus": [
            [
             0,
             "#0d0887"
            ],
            [
             0.1111111111111111,
             "#46039f"
            ],
            [
             0.2222222222222222,
             "#7201a8"
            ],
            [
             0.3333333333333333,
             "#9c179e"
            ],
            [
             0.4444444444444444,
             "#bd3786"
            ],
            [
             0.5555555555555556,
             "#d8576b"
            ],
            [
             0.6666666666666666,
             "#ed7953"
            ],
            [
             0.7777777777777778,
             "#fb9f3a"
            ],
            [
             0.8888888888888888,
             "#fdca26"
            ],
            [
             1,
             "#f0f921"
            ]
           ]
          },
          "colorway": [
           "#636efa",
           "#EF553B",
           "#00cc96",
           "#ab63fa",
           "#FFA15A",
           "#19d3f3",
           "#FF6692",
           "#B6E880",
           "#FF97FF",
           "#FECB52"
          ],
          "font": {
           "color": "#2a3f5f"
          },
          "geo": {
           "bgcolor": "white",
           "lakecolor": "white",
           "landcolor": "#E5ECF6",
           "showlakes": true,
           "showland": true,
           "subunitcolor": "white"
          },
          "hoverlabel": {
           "align": "left"
          },
          "hovermode": "closest",
          "mapbox": {
           "style": "light"
          },
          "paper_bgcolor": "white",
          "plot_bgcolor": "#E5ECF6",
          "polar": {
           "angularaxis": {
            "gridcolor": "white",
            "linecolor": "white",
            "ticks": ""
           },
           "bgcolor": "#E5ECF6",
           "radialaxis": {
            "gridcolor": "white",
            "linecolor": "white",
            "ticks": ""
           }
          },
          "scene": {
           "xaxis": {
            "backgroundcolor": "#E5ECF6",
            "gridcolor": "white",
            "gridwidth": 2,
            "linecolor": "white",
            "showbackground": true,
            "ticks": "",
            "zerolinecolor": "white"
           },
           "yaxis": {
            "backgroundcolor": "#E5ECF6",
            "gridcolor": "white",
            "gridwidth": 2,
            "linecolor": "white",
            "showbackground": true,
            "ticks": "",
            "zerolinecolor": "white"
           },
           "zaxis": {
            "backgroundcolor": "#E5ECF6",
            "gridcolor": "white",
            "gridwidth": 2,
            "linecolor": "white",
            "showbackground": true,
            "ticks": "",
            "zerolinecolor": "white"
           }
          },
          "shapedefaults": {
           "line": {
            "color": "#2a3f5f"
           }
          },
          "ternary": {
           "aaxis": {
            "gridcolor": "white",
            "linecolor": "white",
            "ticks": ""
           },
           "baxis": {
            "gridcolor": "white",
            "linecolor": "white",
            "ticks": ""
           },
           "bgcolor": "#E5ECF6",
           "caxis": {
            "gridcolor": "white",
            "linecolor": "white",
            "ticks": ""
           }
          },
          "title": {
           "x": 0.05
          },
          "xaxis": {
           "automargin": true,
           "gridcolor": "white",
           "linecolor": "white",
           "ticks": "",
           "title": {
            "standoff": 15
           },
           "zerolinecolor": "white",
           "zerolinewidth": 2
          },
          "yaxis": {
           "automargin": true,
           "gridcolor": "white",
           "linecolor": "white",
           "ticks": "",
           "title": {
            "standoff": 15
           },
           "zerolinecolor": "white",
           "zerolinewidth": 2
          }
         }
        },
        "title": {
         "text": "Impact of Job Satisfaction on Attrition Rate"
        },
        "xaxis": {
         "anchor": "y",
         "domain": [
          0,
          0.7363
         ],
         "tickangle": -45,
         "title": {
          "text": "Job Satisfaction Level"
         }
        },
        "xaxis2": {
         "anchor": "y2",
         "domain": [
          0.7413,
          1
         ],
         "matches": "x2",
         "showgrid": false,
         "showline": false,
         "showticklabels": false,
         "ticks": ""
        },
        "yaxis": {
         "anchor": "x",
         "domain": [
          0,
          1
         ],
         "title": {
          "text": "Attrition Rate (%)"
         }
        },
        "yaxis2": {
         "anchor": "x2",
         "domain": [
          0,
          1
         ],
         "matches": "y",
         "showgrid": true,
         "showticklabels": false
        }
       }
      }
     },
     "metadata": {},
     "output_type": "display_data"
    },
    {
     "name": "stdout",
     "output_type": "stream",
     "text": [
      "✅ Visualization generated successfully!\n",
      "\n"
     ]
    }
   ],
   "source": [
    "# Example 2: Job satisfaction impact on attrition\n",
    "df2, fig2 = query_and_visualize(\"How does job satisfaction impact attrition?\")"
   ]
  },
  {
   "cell_type": "code",
   "execution_count": null,
   "id": "e6ee680d",
   "metadata": {},
   "outputs": [],
   "source": [
    "# Example 3: Overtime impact on attrition\n",
    "df3, fig3 = query_and_visualize(\"Compare attrition rates between overtime and non-overtime employees\")"
   ]
  },
  {
   "cell_type": "code",
   "execution_count": null,
   "id": "3a24d106",
   "metadata": {},
   "outputs": [],
   "source": [
    "# Example 4: Gender pay analysis by department\n",
    "df4, fig4 = query_and_visualize(\"Show average monthly income by department and gender\")"
   ]
  },
  {
   "cell_type": "code",
   "execution_count": null,
   "id": "22b9a130",
   "metadata": {},
   "outputs": [],
   "source": [
    "# Example 5: Business travel and attrition\n",
    "df5, fig5 = query_and_visualize(\"How does business travel frequency affect attrition rates?\")"
   ]
  },
  {
   "cell_type": "markdown",
   "id": "a3a4a9d7",
   "metadata": {},
   "source": [
    "## 12. Try Your Own Question + Visualization\n",
    "\n",
    "Use the cell below to ask your own question and get automatic visualization:"
   ]
  },
  {
   "cell_type": "code",
   "execution_count": 53,
   "id": "e323ac53",
   "metadata": {},
   "outputs": [
    {
     "name": "stdout",
     "output_type": "stream",
     "text": [
      "🔍 Processing question: what is the attrition rate for male and female employees?\n",
      "\n",
      "============================================================\n",
      "GENERATED SQL:\n",
      "============================================================\n",
      "SELECT\n",
      "    gender,\n",
      "    COUNT(*) as total_employees,\n",
      "    COUNT(CASE WHEN attrition = 'Yes' THEN 1 END) as left,\n",
      "    ROUND((COUNT(CASE WHEN attrition = 'Yes' THEN 1 END)::numeric / COUNT(*)::numeric) * 100, 2) as attrition_rate\n",
      "FROM employee_attrition\n",
      "GROUP BY gender\n",
      "ORDER BY gender\n",
      "============================================================\n",
      "\n",
      "✅ Query executed successfully. Returned 2 rows.\n",
      "\n",
      "📊 Retrieved 2 rows with 4 columns\n",
      "\n",
      "============================================================\n",
      "GENERATED SQL:\n",
      "============================================================\n",
      "SELECT\n",
      "    gender,\n",
      "    COUNT(*) as total_employees,\n",
      "    COUNT(CASE WHEN attrition = 'Yes' THEN 1 END) as left,\n",
      "    ROUND((COUNT(CASE WHEN attrition = 'Yes' THEN 1 END)::numeric / COUNT(*)::numeric) * 100, 2) as attrition_rate\n",
      "FROM employee_attrition\n",
      "GROUP BY gender\n",
      "ORDER BY gender\n",
      "============================================================\n",
      "\n",
      "✅ Query executed successfully. Returned 2 rows.\n",
      "\n",
      "📊 Retrieved 2 rows with 4 columns\n",
      "\n",
      "============================================================\n",
      "GENERATED PLOTLY CODE:\n",
      "============================================================\n",
      "import plotly.express as px\n",
      "\n",
      "# Create a grouped bar chart for attrition rate by gender\n",
      "fig = px.bar(df, x='gender', y='attrition_rate', \n",
      "             title='Attrition Rate by Gender',\n",
      "             labels={'gender': 'Gender', 'attrition_rate': 'Attrition Rate (%)'},\n",
      "             color='gender')\n",
      "\n",
      "# Rotate x-axis labels for better readability\n",
      "fig.update_layout(xaxis_tickangle=-45)\n",
      "\n",
      "# Show the plot\n",
      "fig.show()\n",
      "============================================================\n",
      "\n",
      "============================================================\n",
      "GENERATED PLOTLY CODE:\n",
      "============================================================\n",
      "import plotly.express as px\n",
      "\n",
      "# Create a grouped bar chart for attrition rate by gender\n",
      "fig = px.bar(df, x='gender', y='attrition_rate', \n",
      "             title='Attrition Rate by Gender',\n",
      "             labels={'gender': 'Gender', 'attrition_rate': 'Attrition Rate (%)'},\n",
      "             color='gender')\n",
      "\n",
      "# Rotate x-axis labels for better readability\n",
      "fig.update_layout(xaxis_tickangle=-45)\n",
      "\n",
      "# Show the plot\n",
      "fig.show()\n",
      "============================================================\n",
      "\n"
     ]
    },
    {
     "data": {
      "application/vnd.plotly.v1+json": {
       "config": {
        "plotlyServerURL": "https://plot.ly"
       },
       "data": [
        {
         "hovertemplate": "Gender=%{x}<br>Attrition Rate (%)=%{y}<extra></extra>",
         "legendgroup": "Female",
         "marker": {
          "color": "#636efa",
          "pattern": {
           "shape": ""
          }
         },
         "name": "Female",
         "orientation": "v",
         "showlegend": true,
         "textposition": "auto",
         "type": "bar",
         "x": [
          "Female"
         ],
         "xaxis": "x",
         "y": {
          "bdata": "mpmZmZmZLUA=",
          "dtype": "f8"
         },
         "yaxis": "y"
        },
        {
         "hovertemplate": "Gender=%{x}<br>Attrition Rate (%)=%{y}<extra></extra>",
         "legendgroup": "Male",
         "marker": {
          "color": "#EF553B",
          "pattern": {
           "shape": ""
          }
         },
         "name": "Male",
         "orientation": "v",
         "showlegend": true,
         "textposition": "auto",
         "type": "bar",
         "x": [
          "Male"
         ],
         "xaxis": "x",
         "y": {
          "bdata": "w/UoXI8CMUA=",
          "dtype": "f8"
         },
         "yaxis": "y"
        }
       ],
       "layout": {
        "barmode": "relative",
        "legend": {
         "title": {
          "text": "Gender"
         },
         "tracegroupgap": 0
        },
        "template": {
         "data": {
          "bar": [
           {
            "error_x": {
             "color": "#2a3f5f"
            },
            "error_y": {
             "color": "#2a3f5f"
            },
            "marker": {
             "line": {
              "color": "#E5ECF6",
              "width": 0.5
             },
             "pattern": {
              "fillmode": "overlay",
              "size": 10,
              "solidity": 0.2
             }
            },
            "type": "bar"
           }
          ],
          "barpolar": [
           {
            "marker": {
             "line": {
              "color": "#E5ECF6",
              "width": 0.5
             },
             "pattern": {
              "fillmode": "overlay",
              "size": 10,
              "solidity": 0.2
             }
            },
            "type": "barpolar"
           }
          ],
          "carpet": [
           {
            "aaxis": {
             "endlinecolor": "#2a3f5f",
             "gridcolor": "white",
             "linecolor": "white",
             "minorgridcolor": "white",
             "startlinecolor": "#2a3f5f"
            },
            "baxis": {
             "endlinecolor": "#2a3f5f",
             "gridcolor": "white",
             "linecolor": "white",
             "minorgridcolor": "white",
             "startlinecolor": "#2a3f5f"
            },
            "type": "carpet"
           }
          ],
          "choropleth": [
           {
            "colorbar": {
             "outlinewidth": 0,
             "ticks": ""
            },
            "type": "choropleth"
           }
          ],
          "contour": [
           {
            "colorbar": {
             "outlinewidth": 0,
             "ticks": ""
            },
            "colorscale": [
             [
              0,
              "#0d0887"
             ],
             [
              0.1111111111111111,
              "#46039f"
             ],
             [
              0.2222222222222222,
              "#7201a8"
             ],
             [
              0.3333333333333333,
              "#9c179e"
             ],
             [
              0.4444444444444444,
              "#bd3786"
             ],
             [
              0.5555555555555556,
              "#d8576b"
             ],
             [
              0.6666666666666666,
              "#ed7953"
             ],
             [
              0.7777777777777778,
              "#fb9f3a"
             ],
             [
              0.8888888888888888,
              "#fdca26"
             ],
             [
              1,
              "#f0f921"
             ]
            ],
            "type": "contour"
           }
          ],
          "contourcarpet": [
           {
            "colorbar": {
             "outlinewidth": 0,
             "ticks": ""
            },
            "type": "contourcarpet"
           }
          ],
          "heatmap": [
           {
            "colorbar": {
             "outlinewidth": 0,
             "ticks": ""
            },
            "colorscale": [
             [
              0,
              "#0d0887"
             ],
             [
              0.1111111111111111,
              "#46039f"
             ],
             [
              0.2222222222222222,
              "#7201a8"
             ],
             [
              0.3333333333333333,
              "#9c179e"
             ],
             [
              0.4444444444444444,
              "#bd3786"
             ],
             [
              0.5555555555555556,
              "#d8576b"
             ],
             [
              0.6666666666666666,
              "#ed7953"
             ],
             [
              0.7777777777777778,
              "#fb9f3a"
             ],
             [
              0.8888888888888888,
              "#fdca26"
             ],
             [
              1,
              "#f0f921"
             ]
            ],
            "type": "heatmap"
           }
          ],
          "histogram": [
           {
            "marker": {
             "pattern": {
              "fillmode": "overlay",
              "size": 10,
              "solidity": 0.2
             }
            },
            "type": "histogram"
           }
          ],
          "histogram2d": [
           {
            "colorbar": {
             "outlinewidth": 0,
             "ticks": ""
            },
            "colorscale": [
             [
              0,
              "#0d0887"
             ],
             [
              0.1111111111111111,
              "#46039f"
             ],
             [
              0.2222222222222222,
              "#7201a8"
             ],
             [
              0.3333333333333333,
              "#9c179e"
             ],
             [
              0.4444444444444444,
              "#bd3786"
             ],
             [
              0.5555555555555556,
              "#d8576b"
             ],
             [
              0.6666666666666666,
              "#ed7953"
             ],
             [
              0.7777777777777778,
              "#fb9f3a"
             ],
             [
              0.8888888888888888,
              "#fdca26"
             ],
             [
              1,
              "#f0f921"
             ]
            ],
            "type": "histogram2d"
           }
          ],
          "histogram2dcontour": [
           {
            "colorbar": {
             "outlinewidth": 0,
             "ticks": ""
            },
            "colorscale": [
             [
              0,
              "#0d0887"
             ],
             [
              0.1111111111111111,
              "#46039f"
             ],
             [
              0.2222222222222222,
              "#7201a8"
             ],
             [
              0.3333333333333333,
              "#9c179e"
             ],
             [
              0.4444444444444444,
              "#bd3786"
             ],
             [
              0.5555555555555556,
              "#d8576b"
             ],
             [
              0.6666666666666666,
              "#ed7953"
             ],
             [
              0.7777777777777778,
              "#fb9f3a"
             ],
             [
              0.8888888888888888,
              "#fdca26"
             ],
             [
              1,
              "#f0f921"
             ]
            ],
            "type": "histogram2dcontour"
           }
          ],
          "mesh3d": [
           {
            "colorbar": {
             "outlinewidth": 0,
             "ticks": ""
            },
            "type": "mesh3d"
           }
          ],
          "parcoords": [
           {
            "line": {
             "colorbar": {
              "outlinewidth": 0,
              "ticks": ""
             }
            },
            "type": "parcoords"
           }
          ],
          "pie": [
           {
            "automargin": true,
            "type": "pie"
           }
          ],
          "scatter": [
           {
            "fillpattern": {
             "fillmode": "overlay",
             "size": 10,
             "solidity": 0.2
            },
            "type": "scatter"
           }
          ],
          "scatter3d": [
           {
            "line": {
             "colorbar": {
              "outlinewidth": 0,
              "ticks": ""
             }
            },
            "marker": {
             "colorbar": {
              "outlinewidth": 0,
              "ticks": ""
             }
            },
            "type": "scatter3d"
           }
          ],
          "scattercarpet": [
           {
            "marker": {
             "colorbar": {
              "outlinewidth": 0,
              "ticks": ""
             }
            },
            "type": "scattercarpet"
           }
          ],
          "scattergeo": [
           {
            "marker": {
             "colorbar": {
              "outlinewidth": 0,
              "ticks": ""
             }
            },
            "type": "scattergeo"
           }
          ],
          "scattergl": [
           {
            "marker": {
             "colorbar": {
              "outlinewidth": 0,
              "ticks": ""
             }
            },
            "type": "scattergl"
           }
          ],
          "scattermap": [
           {
            "marker": {
             "colorbar": {
              "outlinewidth": 0,
              "ticks": ""
             }
            },
            "type": "scattermap"
           }
          ],
          "scattermapbox": [
           {
            "marker": {
             "colorbar": {
              "outlinewidth": 0,
              "ticks": ""
             }
            },
            "type": "scattermapbox"
           }
          ],
          "scatterpolar": [
           {
            "marker": {
             "colorbar": {
              "outlinewidth": 0,
              "ticks": ""
             }
            },
            "type": "scatterpolar"
           }
          ],
          "scatterpolargl": [
           {
            "marker": {
             "colorbar": {
              "outlinewidth": 0,
              "ticks": ""
             }
            },
            "type": "scatterpolargl"
           }
          ],
          "scatterternary": [
           {
            "marker": {
             "colorbar": {
              "outlinewidth": 0,
              "ticks": ""
             }
            },
            "type": "scatterternary"
           }
          ],
          "surface": [
           {
            "colorbar": {
             "outlinewidth": 0,
             "ticks": ""
            },
            "colorscale": [
             [
              0,
              "#0d0887"
             ],
             [
              0.1111111111111111,
              "#46039f"
             ],
             [
              0.2222222222222222,
              "#7201a8"
             ],
             [
              0.3333333333333333,
              "#9c179e"
             ],
             [
              0.4444444444444444,
              "#bd3786"
             ],
             [
              0.5555555555555556,
              "#d8576b"
             ],
             [
              0.6666666666666666,
              "#ed7953"
             ],
             [
              0.7777777777777778,
              "#fb9f3a"
             ],
             [
              0.8888888888888888,
              "#fdca26"
             ],
             [
              1,
              "#f0f921"
             ]
            ],
            "type": "surface"
           }
          ],
          "table": [
           {
            "cells": {
             "fill": {
              "color": "#EBF0F8"
             },
             "line": {
              "color": "white"
             }
            },
            "header": {
             "fill": {
              "color": "#C8D4E3"
             },
             "line": {
              "color": "white"
             }
            },
            "type": "table"
           }
          ]
         },
         "layout": {
          "annotationdefaults": {
           "arrowcolor": "#2a3f5f",
           "arrowhead": 0,
           "arrowwidth": 1
          },
          "autotypenumbers": "strict",
          "coloraxis": {
           "colorbar": {
            "outlinewidth": 0,
            "ticks": ""
           }
          },
          "colorscale": {
           "diverging": [
            [
             0,
             "#8e0152"
            ],
            [
             0.1,
             "#c51b7d"
            ],
            [
             0.2,
             "#de77ae"
            ],
            [
             0.3,
             "#f1b6da"
            ],
            [
             0.4,
             "#fde0ef"
            ],
            [
             0.5,
             "#f7f7f7"
            ],
            [
             0.6,
             "#e6f5d0"
            ],
            [
             0.7,
             "#b8e186"
            ],
            [
             0.8,
             "#7fbc41"
            ],
            [
             0.9,
             "#4d9221"
            ],
            [
             1,
             "#276419"
            ]
           ],
           "sequential": [
            [
             0,
             "#0d0887"
            ],
            [
             0.1111111111111111,
             "#46039f"
            ],
            [
             0.2222222222222222,
             "#7201a8"
            ],
            [
             0.3333333333333333,
             "#9c179e"
            ],
            [
             0.4444444444444444,
             "#bd3786"
            ],
            [
             0.5555555555555556,
             "#d8576b"
            ],
            [
             0.6666666666666666,
             "#ed7953"
            ],
            [
             0.7777777777777778,
             "#fb9f3a"
            ],
            [
             0.8888888888888888,
             "#fdca26"
            ],
            [
             1,
             "#f0f921"
            ]
           ],
           "sequentialminus": [
            [
             0,
             "#0d0887"
            ],
            [
             0.1111111111111111,
             "#46039f"
            ],
            [
             0.2222222222222222,
             "#7201a8"
            ],
            [
             0.3333333333333333,
             "#9c179e"
            ],
            [
             0.4444444444444444,
             "#bd3786"
            ],
            [
             0.5555555555555556,
             "#d8576b"
            ],
            [
             0.6666666666666666,
             "#ed7953"
            ],
            [
             0.7777777777777778,
             "#fb9f3a"
            ],
            [
             0.8888888888888888,
             "#fdca26"
            ],
            [
             1,
             "#f0f921"
            ]
           ]
          },
          "colorway": [
           "#636efa",
           "#EF553B",
           "#00cc96",
           "#ab63fa",
           "#FFA15A",
           "#19d3f3",
           "#FF6692",
           "#B6E880",
           "#FF97FF",
           "#FECB52"
          ],
          "font": {
           "color": "#2a3f5f"
          },
          "geo": {
           "bgcolor": "white",
           "lakecolor": "white",
           "landcolor": "#E5ECF6",
           "showlakes": true,
           "showland": true,
           "subunitcolor": "white"
          },
          "hoverlabel": {
           "align": "left"
          },
          "hovermode": "closest",
          "mapbox": {
           "style": "light"
          },
          "paper_bgcolor": "white",
          "plot_bgcolor": "#E5ECF6",
          "polar": {
           "angularaxis": {
            "gridcolor": "white",
            "linecolor": "white",
            "ticks": ""
           },
           "bgcolor": "#E5ECF6",
           "radialaxis": {
            "gridcolor": "white",
            "linecolor": "white",
            "ticks": ""
           }
          },
          "scene": {
           "xaxis": {
            "backgroundcolor": "#E5ECF6",
            "gridcolor": "white",
            "gridwidth": 2,
            "linecolor": "white",
            "showbackground": true,
            "ticks": "",
            "zerolinecolor": "white"
           },
           "yaxis": {
            "backgroundcolor": "#E5ECF6",
            "gridcolor": "white",
            "gridwidth": 2,
            "linecolor": "white",
            "showbackground": true,
            "ticks": "",
            "zerolinecolor": "white"
           },
           "zaxis": {
            "backgroundcolor": "#E5ECF6",
            "gridcolor": "white",
            "gridwidth": 2,
            "linecolor": "white",
            "showbackground": true,
            "ticks": "",
            "zerolinecolor": "white"
           }
          },
          "shapedefaults": {
           "line": {
            "color": "#2a3f5f"
           }
          },
          "ternary": {
           "aaxis": {
            "gridcolor": "white",
            "linecolor": "white",
            "ticks": ""
           },
           "baxis": {
            "gridcolor": "white",
            "linecolor": "white",
            "ticks": ""
           },
           "bgcolor": "#E5ECF6",
           "caxis": {
            "gridcolor": "white",
            "linecolor": "white",
            "ticks": ""
           }
          },
          "title": {
           "x": 0.05
          },
          "xaxis": {
           "automargin": true,
           "gridcolor": "white",
           "linecolor": "white",
           "ticks": "",
           "title": {
            "standoff": 15
           },
           "zerolinecolor": "white",
           "zerolinewidth": 2
          },
          "yaxis": {
           "automargin": true,
           "gridcolor": "white",
           "linecolor": "white",
           "ticks": "",
           "title": {
            "standoff": 15
           },
           "zerolinecolor": "white",
           "zerolinewidth": 2
          }
         }
        },
        "title": {
         "text": "Attrition Rate by Gender"
        },
        "xaxis": {
         "anchor": "y",
         "categoryarray": [
          "Female",
          "Male"
         ],
         "categoryorder": "array",
         "domain": [
          0,
          1
         ],
         "tickangle": -45,
         "title": {
          "text": "Gender"
         }
        },
        "yaxis": {
         "anchor": "x",
         "domain": [
          0,
          1
         ],
         "title": {
          "text": "Attrition Rate (%)"
         }
        }
       }
      }
     },
     "metadata": {},
     "output_type": "display_data"
    },
    {
     "name": "stdout",
     "output_type": "stream",
     "text": [
      "✅ Visualization generated successfully!\n",
      "\n"
     ]
    }
   ],
   "source": [
    "# Your custom question here\n",
    "my_question = \"what is the attrition rate for male and female employees?\"\n",
    "df_custom, fig_custom = query_and_visualize(my_question)"
   ]
  },
  {
   "cell_type": "markdown",
   "id": "b2da265f",
   "metadata": {},
   "source": [
    "## 13. Advanced Usage - Manual Control\n",
    "\n",
    "You can also use the components separately for more control:"
   ]
  },
  {
   "cell_type": "code",
   "execution_count": null,
   "id": "027fddd0",
   "metadata": {},
   "outputs": [],
   "source": [
    "# Step 1: Get data from SQL query\n",
    "question = \"Show me attrition rate by job role\"\n",
    "df_manual = agent.query(question)\n",
    "\n",
    "print(\"Data retrieved:\")\n",
    "display(df_manual)\n",
    "\n",
    "# Step 2: Generate visualization code (without executing)\n",
    "viz_code = viz_generator.generate_code(df_manual, original_question=question)\n",
    "\n",
    "print(\"\\nGenerated visualization code:\")\n",
    "print(\"=\" * 60)\n",
    "print(viz_code)\n",
    "print(\"=\" * 60)\n",
    "\n",
    "# Step 3: Execute the visualization manually\n",
    "exec(viz_code)"
   ]
  },
  {
   "cell_type": "markdown",
   "id": "68850d3b",
   "metadata": {},
   "source": [
    "## 14. Summary & Features\n",
    "\n",
    "### 🎯 What We Built\n",
    "\n",
    "**Complete Text-to-SQL + Visualization Pipeline:**\n",
    "1. **TextToSQLAgent**: Converts natural language → SQL → DataFrame\n",
    "2. **PlotlyVisualizationGenerator**: Converts DataFrame → Python Code → Interactive Chart\n",
    "3. **Integrated Pipeline**: One function call gets you data + visualization\n",
    "\n",
    "### ✨ Key Features\n",
    "\n",
    "**Text-to-SQL Agent:**\n",
    "- Natural language to PostgreSQL queries\n",
    "- Built-in HR data dictionary and KPI context\n",
    "- SQL safety validation (SELECT-only)\n",
    "- Smart handling of percentages and rates\n",
    "- Proper GROUP BY for comparisons\n",
    "\n",
    "**Visualization Generator:**\n",
    "- Automatic chart type selection (bar, grouped bar, line, scatter, etc.)\n",
    "- Context-aware based on data structure\n",
    "- Professional styling and formatting\n",
    "- Interactive Plotly charts\n",
    "- Executable Python code generation\n",
    "\n",
    "**Security:**\n",
    "- No INSERT/UPDATE/DELETE allowed\n",
    "- SQL injection protection\n",
    "- Validated query execution\n",
    "\n",
    "### 📊 Usage Patterns\n",
    "\n",
    "```python\n",
    "# Simple: Question → Data + Chart\n",
    "df, fig = query_and_visualize(\"Your question here\")\n",
    "\n",
    "# SQL Only: Question → Data\n",
    "df = agent.query(\"Your question here\")\n",
    "\n",
    "# Visualization Only: Data → Chart\n",
    "fig = viz_generator.visualize(df, \"context about the data\")\n",
    "\n",
    "# Just generate code (don't execute)\n",
    "code = viz_generator.generate_code(df, \"context\")\n",
    "```\n",
    "\n",
    "### 🚀 Next Steps\n",
    "\n",
    "- Test with your own questions\n",
    "- Modify visualization styles in generated code\n",
    "- Extend to other databases or datasets\n",
    "- Add more chart types to the prompt\n",
    "- Export visualizations as images or HTML"
   ]
  }
 ],
 "metadata": {
  "kernelspec": {
   "display_name": "Python 3",
   "language": "python",
   "name": "python3"
  },
  "language_info": {
   "codemirror_mode": {
    "name": "ipython",
    "version": 3
   },
   "file_extension": ".py",
   "mimetype": "text/x-python",
   "name": "python",
   "nbconvert_exporter": "python",
   "pygments_lexer": "ipython3",
   "version": "3.12.3"
  }
 },
 "nbformat": 4,
 "nbformat_minor": 5
}
