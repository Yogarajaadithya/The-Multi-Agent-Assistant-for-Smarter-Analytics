{
 "cells": [
  {
   "cell_type": "code",
   "execution_count": 1,
   "id": "2b50aa3b",
   "metadata": {},
   "outputs": [],
   "source": [
    "connection_string = \"jdbc:postgresql://localhost:5433/postgres\"\n",
    "schema_name = \"hr_data\""
   ]
  },
  {
   "cell_type": "code",
   "execution_count": null,
   "id": "46cab00b",
   "metadata": {},
   "outputs": [],
   "source": []
  },
  {
   "cell_type": "code",
   "execution_count": null,
   "id": "cfb925a3",
   "metadata": {},
   "outputs": [],
   "source": []
  }
 ],
 "metadata": {
  "kernelspec": {
   "display_name": "Python 3",
   "language": "python",
   "name": "python3"
  },
  "language_info": {
   "codemirror_mode": {
    "name": "ipython",
    "version": 3
   },
   "file_extension": ".py",
   "mimetype": "text/x-python",
   "name": "python",
   "nbconvert_exporter": "python",
   "pygments_lexer": "ipython3",
   "version": "3.12.3"
  }
 },
 "nbformat": 4,
 "nbformat_minor": 5
}
